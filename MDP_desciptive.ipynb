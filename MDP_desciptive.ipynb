{
 "nbformat": 4,
 "nbformat_minor": 0,
 "metadata": {
  "colab": {
   "name": "MDP_desciptive.ipynb",
   "provenance": [],
   "collapsed_sections": []
  },
  "kernelspec": {
   "name": "python3",
   "display_name": "Python 3"
  },
  "language_info": {
   "name": "python"
  }
 },
 "cells": [
  {
   "cell_type": "code",
   "execution_count": 4,
   "metadata": {
    "id": "tfxdNr9Ex2gp",
    "colab": {
     "base_uri": "https://localhost:8080/"
    },
    "outputId": "34447b7a-ec63-46f2-a7e0-e00cc7aee440",
    "pycharm": {
     "name": "#%%\n"
    }
   },
   "outputs": [
    {
     "output_type": "stream",
     "name": "stdout",
     "text": [
      "Looking in indexes: https://pypi.org/simple, https://us-python.pkg.dev/colab-wheels/public/simple/\n",
      "Collecting SciExpeM-API\n",
      "  Downloading SciExpeM_API-2.0.3.3-py3-none-any.whl (22 kB)\n",
      "Requirement already satisfied: pandas in /usr/local/lib/python3.7/dist-packages (from SciExpeM-API) (1.3.5)\n",
      "Requirement already satisfied: requests in /usr/local/lib/python3.7/dist-packages (from SciExpeM-API) (2.23.0)\n",
      "Collecting django\n",
      "  Downloading Django-3.2.13-py3-none-any.whl (7.9 MB)\n",
      "\u001B[K     |████████████████████████████████| 7.9 MB 6.8 MB/s \n",
      "\u001B[?25hCollecting simplejson\n",
      "  Downloading simplejson-3.17.6-cp37-cp37m-manylinux_2_5_x86_64.manylinux1_x86_64.manylinux_2_12_x86_64.manylinux2010_x86_64.whl (130 kB)\n",
      "\u001B[K     |████████████████████████████████| 130 kB 49.9 MB/s \n",
      "\u001B[?25hCollecting asgiref<4,>=3.3.2\n",
      "  Downloading asgiref-3.5.2-py3-none-any.whl (22 kB)\n",
      "Requirement already satisfied: sqlparse>=0.2.2 in /usr/local/lib/python3.7/dist-packages (from django->SciExpeM-API) (0.4.2)\n",
      "Requirement already satisfied: pytz in /usr/local/lib/python3.7/dist-packages (from django->SciExpeM-API) (2022.1)\n",
      "Requirement already satisfied: typing-extensions in /usr/local/lib/python3.7/dist-packages (from asgiref<4,>=3.3.2->django->SciExpeM-API) (4.2.0)\n",
      "Requirement already satisfied: python-dateutil>=2.7.3 in /usr/local/lib/python3.7/dist-packages (from pandas->SciExpeM-API) (2.8.2)\n",
      "Requirement already satisfied: numpy>=1.17.3 in /usr/local/lib/python3.7/dist-packages (from pandas->SciExpeM-API) (1.21.6)\n",
      "Requirement already satisfied: six>=1.5 in /usr/local/lib/python3.7/dist-packages (from python-dateutil>=2.7.3->pandas->SciExpeM-API) (1.15.0)\n",
      "Requirement already satisfied: certifi>=2017.4.17 in /usr/local/lib/python3.7/dist-packages (from requests->SciExpeM-API) (2022.5.18.1)\n",
      "Requirement already satisfied: urllib3!=1.25.0,!=1.25.1,<1.26,>=1.21.1 in /usr/local/lib/python3.7/dist-packages (from requests->SciExpeM-API) (1.24.3)\n",
      "Requirement already satisfied: idna<3,>=2.5 in /usr/local/lib/python3.7/dist-packages (from requests->SciExpeM-API) (2.10)\n",
      "Requirement already satisfied: chardet<4,>=3.0.2 in /usr/local/lib/python3.7/dist-packages (from requests->SciExpeM-API) (3.0.4)\n",
      "Installing collected packages: asgiref, simplejson, django, SciExpeM-API\n",
      "Successfully installed SciExpeM-API-2.0.3.3 asgiref-3.5.2 django-3.2.13 simplejson-3.17.6\n",
      "Looking in indexes: https://pypi.org/simple, https://us-python.pkg.dev/colab-wheels/public/simple/\n",
      "Requirement already satisfied: SciExpeM-API in /usr/local/lib/python3.7/dist-packages (2.0.3.3)\n",
      "Requirement already satisfied: simplejson in /usr/local/lib/python3.7/dist-packages (from SciExpeM-API) (3.17.6)\n",
      "Requirement already satisfied: requests in /usr/local/lib/python3.7/dist-packages (from SciExpeM-API) (2.23.0)\n",
      "Requirement already satisfied: pandas in /usr/local/lib/python3.7/dist-packages (from SciExpeM-API) (1.3.5)\n",
      "Requirement already satisfied: django in /usr/local/lib/python3.7/dist-packages (from SciExpeM-API) (3.2.13)\n",
      "Requirement already satisfied: pytz in /usr/local/lib/python3.7/dist-packages (from django->SciExpeM-API) (2022.1)\n",
      "Requirement already satisfied: sqlparse>=0.2.2 in /usr/local/lib/python3.7/dist-packages (from django->SciExpeM-API) (0.4.2)\n",
      "Requirement already satisfied: asgiref<4,>=3.3.2 in /usr/local/lib/python3.7/dist-packages (from django->SciExpeM-API) (3.5.2)\n",
      "Requirement already satisfied: typing-extensions in /usr/local/lib/python3.7/dist-packages (from asgiref<4,>=3.3.2->django->SciExpeM-API) (4.2.0)\n",
      "Requirement already satisfied: python-dateutil>=2.7.3 in /usr/local/lib/python3.7/dist-packages (from pandas->SciExpeM-API) (2.8.2)\n",
      "Requirement already satisfied: numpy>=1.17.3 in /usr/local/lib/python3.7/dist-packages (from pandas->SciExpeM-API) (1.21.6)\n",
      "Requirement already satisfied: six>=1.5 in /usr/local/lib/python3.7/dist-packages (from python-dateutil>=2.7.3->pandas->SciExpeM-API) (1.15.0)\n",
      "Requirement already satisfied: certifi>=2017.4.17 in /usr/local/lib/python3.7/dist-packages (from requests->SciExpeM-API) (2022.5.18.1)\n",
      "Requirement already satisfied: chardet<4,>=3.0.2 in /usr/local/lib/python3.7/dist-packages (from requests->SciExpeM-API) (3.0.4)\n",
      "Requirement already satisfied: urllib3!=1.25.0,!=1.25.1,<1.26,>=1.21.1 in /usr/local/lib/python3.7/dist-packages (from requests->SciExpeM-API) (1.24.3)\n",
      "Requirement already satisfied: idna<3,>=2.5 in /usr/local/lib/python3.7/dist-packages (from requests->SciExpeM-API) (2.10)\n"
     ]
    }
   ],
   "source": [
    "!pip install SciExpeM-API \n",
    "!pip install SciExpeM-API --upgrade"
   ]
  },
  {
   "cell_type": "code",
   "source": [
    "from SciExpeM_API.SciExpeM import SciExpeM\n",
    "import os \n",
    "my_sciexpem = SciExpeM(username='nikita.rozov', password='mdp2022_')"
   ],
   "metadata": {
    "id": "wxmhvhikzmMV",
    "colab": {
     "base_uri": "https://localhost:8080/"
    },
    "outputId": "8fc1d8f8-369f-43f9-c89b-1e608c455678",
    "pycharm": {
     "name": "#%%\n"
    }
   },
   "execution_count": 6,
   "outputs": [
    {
     "output_type": "stream",
     "name": "stdout",
     "text": [
      "Attention. SciExpeM is a singleton.\n"
     ]
    }
   ]
  },
  {
   "cell_type": "code",
   "source": [
    "result_list = my_sciexpem.filterDatabase(model_name='Experiment', fileDOI='tmp_39904519421883596702')\n",
    "\n",
    "print(result_list)\n",
    "for result in result_list:\n",
    "    print(result.__dict__)\n",
    "    print(\"DOI:\", result.fileDOI)\n",
    "    print(\"Reactor:\", result.reactor)\n",
    "    print('Data columns', result._data_columns)\n",
    "    for data in result._data_columns:\n",
    "      print(data.__dict__)\n",
    "    "
   ],
   "metadata": {
    "id": "Rgi2OMzx0v5T",
    "colab": {
     "base_uri": "https://localhost:8080/"
    },
    "outputId": "67c44707-125e-4b7f-b59c-c527a11a5e1c",
    "pycharm": {
     "name": "#%%\n"
    }
   },
   "execution_count": null,
   "outputs": [
    {
     "output_type": "stream",
     "name": "stdout",
     "text": [
      "[]\n"
     ]
    }
   ]
  },
  {
   "cell_type": "code",
   "source": [
    "from google.colab import drive\n",
    "drive.mount('/content/drive')"
   ],
   "metadata": {
    "id": "bfChd4YpOJ-A",
    "colab": {
     "base_uri": "https://localhost:8080/"
    },
    "outputId": "24620505-32af-4284-863f-040d8cb07929",
    "pycharm": {
     "name": "#%%\n"
    }
   },
   "execution_count": 7,
   "outputs": [
    {
     "output_type": "stream",
     "name": "stdout",
     "text": [
      "Mounted at /content/drive\n"
     ]
    }
   ]
  },
  {
   "cell_type": "code",
   "source": [
    "import pandas as pd\n",
    "data = pd.read_excel(\"/content/drive/My Drive/MDP/report/POLIMI_1212_C1C3.xlsx\")\n",
    "for filename in os.listdir(\"/content/drive/My Drive/MDP/report/\"):\n",
    "  if filename != \"POLIMI_1212_C1C3.xlsx\":\n",
    "    inter_data = pd.read_excel(\"/content/drive/My Drive/MDP/report/\"+filename)\n",
    "    data = pd.concat([data, inter_data], ignore_index=True)\n",
    "data = data.drop(columns=[\"Unnamed: 0\"])\n",
    "data = data.sort_values(by=['Error'])[20:840]\n",
    "print(data.shape)"
   ],
   "metadata": {
    "id": "CGVuFFTsG5h6",
    "colab": {
     "base_uri": "https://localhost:8080/"
    },
    "outputId": "74020588-7a5a-4e27-8ad0-b2ca2c94fd80",
    "pycharm": {
     "name": "#%%\n"
    }
   },
   "execution_count": null,
   "outputs": [
    {
     "output_type": "stream",
     "name": "stdout",
     "text": [
      "(820, 18)\n"
     ]
    }
   ]
  },
  {
   "cell_type": "code",
   "source": [
    "global max_value, min_value\n",
    "def normalize(values):\n",
    "  return (values - values.min())/(values.max() - values.min())\n",
    "\n"
   ],
   "metadata": {
    "id": "Mhw6XwnxfacR",
    "pycharm": {
     "name": "#%%\n"
    }
   },
   "execution_count": null,
   "outputs": []
  },
  {
   "cell_type": "code",
   "source": [
    "x = data.drop(columns=['Experiment DOI','Exp SciExpeM ID','Chem Model','Error','d0L2','d1L2','d0Pe','d1Pe','shift'])\n",
    "x_exp_type = pd.get_dummies(x['Experiment Type'], prefix='Experiment Type')\n",
    "# dx = x.set_index('id').join(x_exp_type.set_index('image_id'))\n",
    "y = data['Error']\n",
    "norm_y = normalize(y)\n",
    "# x.head()"
   ],
   "metadata": {
    "id": "LzqLQrfdNlC0",
    "pycharm": {
     "name": "#%%\n"
    }
   },
   "execution_count": null,
   "outputs": []
  },
  {
   "cell_type": "code",
   "source": [
    "def splitter(x, num):\n",
    "  first, second = x.replace('(','').replace(')','').split(\", \")\n",
    "  if num == 1:\n",
    "    return first\n",
    "  else:    \n",
    "    return second\n",
    "x['Phi1'] = x.Phi.apply(splitter,num = 1)\n",
    "x['Pressure1'] = x['Pressure (Bar)'].apply(splitter,num = 1)\n",
    "x['Temperature1'] = x[\"Temperature (K)\"].apply(splitter,num = 1)\n",
    "x['Phi2'] = x.Phi.apply(splitter,num = 2)\n",
    "x['Pressure2'] = x['Pressure (Bar)'].apply(splitter,num = 2)\n",
    "x['Temperature2'] = x[\"Temperature (K)\"].apply(splitter,num = 2)\n",
    "x = x.drop(columns=['Phi','Pressure (Bar)','Temperature (K)'])\n",
    "\n",
    "x.head()"
   ],
   "metadata": {
    "colab": {
     "base_uri": "https://localhost:8080/",
     "height": 206
    },
    "id": "0FvR9aQaRDiR",
    "outputId": "fb7bcf79-39b8-49ca-ffbd-4ccc034f0ab4",
    "pycharm": {
     "name": "#%%\n"
    }
   },
   "execution_count": null,
   "outputs": [
    {
     "output_type": "execute_result",
     "data": {
      "text/plain": [
       "     Chem Model ID                   Experiment Type          Reactor  \\\n",
       "256           31.0        ignition delay measurement       shock tube   \n",
       "471            4.0  outlet concentration measurement       shock tube   \n",
       "127           24.0   jet stirred reactor measurement  stirred reactor   \n",
       "305           12.0   jet stirred reactor measurement  stirred reactor   \n",
       "199           14.0   jet stirred reactor measurement  stirred reactor   \n",
       "\n",
       "           Target     Fuels     Score Phi1 Pressure1 Temperature1   Phi2  \\\n",
       "256  tau_P(slope)   ['CH4']  0.297652  2.0     2.691       1426.3    2.0   \n",
       "471        C2H2_x  ['C6H6']  0.768225  0.0    30.398       1200.0  100.0   \n",
       "127         CH4_x  ['C7H8']  0.879847  0.5       1.0       1000.0    0.5   \n",
       "305        C4H4_x  ['C7H8']  0.909856  0.5       1.0       1000.0    0.5   \n",
       "199      C3H4-P_x  ['C7H8']  0.853019  1.0      10.0        945.0    1.0   \n",
       "\n",
       "    Pressure2 Temperature2  \n",
       "256      3.12       1653.6  \n",
       "471    30.398       2000.0  \n",
       "127       1.0       1300.0  \n",
       "305       1.0       1300.0  \n",
       "199      10.0       1203.0  "
      ],
      "text/html": [
       "\n",
       "  <div id=\"df-a3b1bed4-a408-4f6d-b887-71a721d30a0e\">\n",
       "    <div class=\"colab-df-container\">\n",
       "      <div>\n",
       "<style scoped>\n",
       "    .dataframe tbody tr th:only-of-type {\n",
       "        vertical-align: middle;\n",
       "    }\n",
       "\n",
       "    .dataframe tbody tr th {\n",
       "        vertical-align: top;\n",
       "    }\n",
       "\n",
       "    .dataframe thead th {\n",
       "        text-align: right;\n",
       "    }\n",
       "</style>\n",
       "<table border=\"1\" class=\"dataframe\">\n",
       "  <thead>\n",
       "    <tr style=\"text-align: right;\">\n",
       "      <th></th>\n",
       "      <th>Chem Model ID</th>\n",
       "      <th>Experiment Type</th>\n",
       "      <th>Reactor</th>\n",
       "      <th>Target</th>\n",
       "      <th>Fuels</th>\n",
       "      <th>Score</th>\n",
       "      <th>Phi1</th>\n",
       "      <th>Pressure1</th>\n",
       "      <th>Temperature1</th>\n",
       "      <th>Phi2</th>\n",
       "      <th>Pressure2</th>\n",
       "      <th>Temperature2</th>\n",
       "    </tr>\n",
       "  </thead>\n",
       "  <tbody>\n",
       "    <tr>\n",
       "      <th>256</th>\n",
       "      <td>31.0</td>\n",
       "      <td>ignition delay measurement</td>\n",
       "      <td>shock tube</td>\n",
       "      <td>tau_P(slope)</td>\n",
       "      <td>['CH4']</td>\n",
       "      <td>0.297652</td>\n",
       "      <td>2.0</td>\n",
       "      <td>2.691</td>\n",
       "      <td>1426.3</td>\n",
       "      <td>2.0</td>\n",
       "      <td>3.12</td>\n",
       "      <td>1653.6</td>\n",
       "    </tr>\n",
       "    <tr>\n",
       "      <th>471</th>\n",
       "      <td>4.0</td>\n",
       "      <td>outlet concentration measurement</td>\n",
       "      <td>shock tube</td>\n",
       "      <td>C2H2_x</td>\n",
       "      <td>['C6H6']</td>\n",
       "      <td>0.768225</td>\n",
       "      <td>0.0</td>\n",
       "      <td>30.398</td>\n",
       "      <td>1200.0</td>\n",
       "      <td>100.0</td>\n",
       "      <td>30.398</td>\n",
       "      <td>2000.0</td>\n",
       "    </tr>\n",
       "    <tr>\n",
       "      <th>127</th>\n",
       "      <td>24.0</td>\n",
       "      <td>jet stirred reactor measurement</td>\n",
       "      <td>stirred reactor</td>\n",
       "      <td>CH4_x</td>\n",
       "      <td>['C7H8']</td>\n",
       "      <td>0.879847</td>\n",
       "      <td>0.5</td>\n",
       "      <td>1.0</td>\n",
       "      <td>1000.0</td>\n",
       "      <td>0.5</td>\n",
       "      <td>1.0</td>\n",
       "      <td>1300.0</td>\n",
       "    </tr>\n",
       "    <tr>\n",
       "      <th>305</th>\n",
       "      <td>12.0</td>\n",
       "      <td>jet stirred reactor measurement</td>\n",
       "      <td>stirred reactor</td>\n",
       "      <td>C4H4_x</td>\n",
       "      <td>['C7H8']</td>\n",
       "      <td>0.909856</td>\n",
       "      <td>0.5</td>\n",
       "      <td>1.0</td>\n",
       "      <td>1000.0</td>\n",
       "      <td>0.5</td>\n",
       "      <td>1.0</td>\n",
       "      <td>1300.0</td>\n",
       "    </tr>\n",
       "    <tr>\n",
       "      <th>199</th>\n",
       "      <td>14.0</td>\n",
       "      <td>jet stirred reactor measurement</td>\n",
       "      <td>stirred reactor</td>\n",
       "      <td>C3H4-P_x</td>\n",
       "      <td>['C7H8']</td>\n",
       "      <td>0.853019</td>\n",
       "      <td>1.0</td>\n",
       "      <td>10.0</td>\n",
       "      <td>945.0</td>\n",
       "      <td>1.0</td>\n",
       "      <td>10.0</td>\n",
       "      <td>1203.0</td>\n",
       "    </tr>\n",
       "  </tbody>\n",
       "</table>\n",
       "</div>\n",
       "      <button class=\"colab-df-convert\" onclick=\"convertToInteractive('df-a3b1bed4-a408-4f6d-b887-71a721d30a0e')\"\n",
       "              title=\"Convert this dataframe to an interactive table.\"\n",
       "              style=\"display:none;\">\n",
       "        \n",
       "  <svg xmlns=\"http://www.w3.org/2000/svg\" height=\"24px\"viewBox=\"0 0 24 24\"\n",
       "       width=\"24px\">\n",
       "    <path d=\"M0 0h24v24H0V0z\" fill=\"none\"/>\n",
       "    <path d=\"M18.56 5.44l.94 2.06.94-2.06 2.06-.94-2.06-.94-.94-2.06-.94 2.06-2.06.94zm-11 1L8.5 8.5l.94-2.06 2.06-.94-2.06-.94L8.5 2.5l-.94 2.06-2.06.94zm10 10l.94 2.06.94-2.06 2.06-.94-2.06-.94-.94-2.06-.94 2.06-2.06.94z\"/><path d=\"M17.41 7.96l-1.37-1.37c-.4-.4-.92-.59-1.43-.59-.52 0-1.04.2-1.43.59L10.3 9.45l-7.72 7.72c-.78.78-.78 2.05 0 2.83L4 21.41c.39.39.9.59 1.41.59.51 0 1.02-.2 1.41-.59l7.78-7.78 2.81-2.81c.8-.78.8-2.07 0-2.86zM5.41 20L4 18.59l7.72-7.72 1.47 1.35L5.41 20z\"/>\n",
       "  </svg>\n",
       "      </button>\n",
       "      \n",
       "  <style>\n",
       "    .colab-df-container {\n",
       "      display:flex;\n",
       "      flex-wrap:wrap;\n",
       "      gap: 12px;\n",
       "    }\n",
       "\n",
       "    .colab-df-convert {\n",
       "      background-color: #E8F0FE;\n",
       "      border: none;\n",
       "      border-radius: 50%;\n",
       "      cursor: pointer;\n",
       "      display: none;\n",
       "      fill: #1967D2;\n",
       "      height: 32px;\n",
       "      padding: 0 0 0 0;\n",
       "      width: 32px;\n",
       "    }\n",
       "\n",
       "    .colab-df-convert:hover {\n",
       "      background-color: #E2EBFA;\n",
       "      box-shadow: 0px 1px 2px rgba(60, 64, 67, 0.3), 0px 1px 3px 1px rgba(60, 64, 67, 0.15);\n",
       "      fill: #174EA6;\n",
       "    }\n",
       "\n",
       "    [theme=dark] .colab-df-convert {\n",
       "      background-color: #3B4455;\n",
       "      fill: #D2E3FC;\n",
       "    }\n",
       "\n",
       "    [theme=dark] .colab-df-convert:hover {\n",
       "      background-color: #434B5C;\n",
       "      box-shadow: 0px 1px 3px 1px rgba(0, 0, 0, 0.15);\n",
       "      filter: drop-shadow(0px 1px 2px rgba(0, 0, 0, 0.3));\n",
       "      fill: #FFFFFF;\n",
       "    }\n",
       "  </style>\n",
       "\n",
       "      <script>\n",
       "        const buttonEl =\n",
       "          document.querySelector('#df-a3b1bed4-a408-4f6d-b887-71a721d30a0e button.colab-df-convert');\n",
       "        buttonEl.style.display =\n",
       "          google.colab.kernel.accessAllowed ? 'block' : 'none';\n",
       "\n",
       "        async function convertToInteractive(key) {\n",
       "          const element = document.querySelector('#df-a3b1bed4-a408-4f6d-b887-71a721d30a0e');\n",
       "          const dataTable =\n",
       "            await google.colab.kernel.invokeFunction('convertToInteractive',\n",
       "                                                     [key], {});\n",
       "          if (!dataTable) return;\n",
       "\n",
       "          const docLinkHtml = 'Like what you see? Visit the ' +\n",
       "            '<a target=\"_blank\" href=https://colab.research.google.com/notebooks/data_table.ipynb>data table notebook</a>'\n",
       "            + ' to learn more about interactive tables.';\n",
       "          element.innerHTML = '';\n",
       "          dataTable['output_type'] = 'display_data';\n",
       "          await google.colab.output.renderOutput(dataTable, element);\n",
       "          const docLink = document.createElement('div');\n",
       "          docLink.innerHTML = docLinkHtml;\n",
       "          element.appendChild(docLink);\n",
       "        }\n",
       "      </script>\n",
       "    </div>\n",
       "  </div>\n",
       "  "
      ]
     },
     "metadata": {},
     "execution_count": 10
    }
   ]
  },
  {
   "cell_type": "code",
   "source": [
    "x_fuels = pd.get_dummies(x['Fuels'], prefix='Fuels:')\n",
    "#model id to categorical\n",
    "x_model_id = pd.get_dummies(x['Chem Model ID'], prefix='Model ID:')\n",
    "x_reactor = pd.get_dummies(x['Reactor'], prefix='Reactor:')\n",
    "x_exp_type = pd.get_dummies(x['Experiment Type'], prefix='ExpType:')\n",
    "x_target = pd.get_dummies(x['Target'], prefix='Target:')\n",
    "x = x.drop(columns=[\"Fuels\",'Target','Experiment Type','Reactor','Chem Model ID'])\n",
    "x.join(x_target).join(x_exp_type).join(x_reactor).join(x_fuels).join(x_model_id)"
   ],
   "metadata": {
    "id": "qNlPqf2pbOSf",
    "colab": {
     "base_uri": "https://localhost:8080/",
     "height": 505
    },
    "outputId": "4e856bef-c0fc-419d-de80-dd4f5eec2db8",
    "pycharm": {
     "name": "#%%\n"
    }
   },
   "execution_count": null,
   "outputs": [
    {
     "output_type": "execute_result",
     "data": {
      "text/plain": [
       "        Score   Phi1 Pressure1 Temperature1   Phi2 Pressure2 Temperature2  \\\n",
       "256  0.297652    2.0     2.691       1426.3    2.0      3.12       1653.6   \n",
       "471  0.768225    0.0    30.398       1200.0  100.0    30.398       2000.0   \n",
       "127  0.879847    0.5       1.0       1000.0    0.5       1.0       1300.0   \n",
       "305  0.909856    0.5       1.0       1000.0    0.5       1.0       1300.0   \n",
       "199  0.853019    1.0      10.0        945.0    1.0      10.0       1203.0   \n",
       "..        ...    ...       ...          ...    ...       ...          ...   \n",
       "490  0.757903    0.0      16.0       1049.0    0.0      16.0       1209.0   \n",
       "419  0.488517  100.0       1.0       1100.0  100.0       1.0       1500.0   \n",
       "66   0.508468  100.0       1.0       1100.0  100.0       1.0       1500.0   \n",
       "221  0.537750    0.5     0.329      1875.56    0.5     0.329      2107.01   \n",
       "230  0.507096    0.7      10.0        423.0    1.0      10.0        423.0   \n",
       "\n",
       "     Target:_AR_x  Target:_BIPHENYL_x  Target:_C10H8_x  ...  Model ID:_11.0  \\\n",
       "256             0                   0                0  ...               0   \n",
       "471             0                   0                0  ...               0   \n",
       "127             0                   0                0  ...               0   \n",
       "305             0                   0                0  ...               0   \n",
       "199             0                   0                0  ...               0   \n",
       "..            ...                 ...              ...  ...             ...   \n",
       "490             0                   0                0  ...               0   \n",
       "419             0                   0                0  ...               0   \n",
       "66              0                   0                0  ...               0   \n",
       "221             0                   0                0  ...               0   \n",
       "230             0                   0                0  ...               0   \n",
       "\n",
       "     Model ID:_12.0  Model ID:_14.0  Model ID:_15.0  Model ID:_17.0  \\\n",
       "256               0               0               0               0   \n",
       "471               0               0               0               0   \n",
       "127               0               0               0               0   \n",
       "305               1               0               0               0   \n",
       "199               0               1               0               0   \n",
       "..              ...             ...             ...             ...   \n",
       "490               0               0               0               0   \n",
       "419               0               0               0               1   \n",
       "66                0               0               0               0   \n",
       "221               0               0               0               0   \n",
       "230               0               0               0               0   \n",
       "\n",
       "     Model ID:_23.0  Model ID:_24.0  Model ID:_31.0  Model ID:_32.0  \\\n",
       "256               0               0               1               0   \n",
       "471               0               0               0               0   \n",
       "127               0               1               0               0   \n",
       "305               0               0               0               0   \n",
       "199               0               0               0               0   \n",
       "..              ...             ...             ...             ...   \n",
       "490               0               0               0               0   \n",
       "419               0               0               0               0   \n",
       "66                0               1               0               0   \n",
       "221               0               0               1               0   \n",
       "230               0               0               1               0   \n",
       "\n",
       "     Model ID:_33.0  \n",
       "256               0  \n",
       "471               0  \n",
       "127               0  \n",
       "305               0  \n",
       "199               0  \n",
       "..              ...  \n",
       "490               0  \n",
       "419               0  \n",
       "66                0  \n",
       "221               0  \n",
       "230               0  \n",
       "\n",
       "[820 rows x 102 columns]"
      ],
      "text/html": [
       "\n",
       "  <div id=\"df-e5ef069b-6117-4f66-ac90-d897893aa3c2\">\n",
       "    <div class=\"colab-df-container\">\n",
       "      <div>\n",
       "<style scoped>\n",
       "    .dataframe tbody tr th:only-of-type {\n",
       "        vertical-align: middle;\n",
       "    }\n",
       "\n",
       "    .dataframe tbody tr th {\n",
       "        vertical-align: top;\n",
       "    }\n",
       "\n",
       "    .dataframe thead th {\n",
       "        text-align: right;\n",
       "    }\n",
       "</style>\n",
       "<table border=\"1\" class=\"dataframe\">\n",
       "  <thead>\n",
       "    <tr style=\"text-align: right;\">\n",
       "      <th></th>\n",
       "      <th>Score</th>\n",
       "      <th>Phi1</th>\n",
       "      <th>Pressure1</th>\n",
       "      <th>Temperature1</th>\n",
       "      <th>Phi2</th>\n",
       "      <th>Pressure2</th>\n",
       "      <th>Temperature2</th>\n",
       "      <th>Target:_AR_x</th>\n",
       "      <th>Target:_BIPHENYL_x</th>\n",
       "      <th>Target:_C10H8_x</th>\n",
       "      <th>...</th>\n",
       "      <th>Model ID:_11.0</th>\n",
       "      <th>Model ID:_12.0</th>\n",
       "      <th>Model ID:_14.0</th>\n",
       "      <th>Model ID:_15.0</th>\n",
       "      <th>Model ID:_17.0</th>\n",
       "      <th>Model ID:_23.0</th>\n",
       "      <th>Model ID:_24.0</th>\n",
       "      <th>Model ID:_31.0</th>\n",
       "      <th>Model ID:_32.0</th>\n",
       "      <th>Model ID:_33.0</th>\n",
       "    </tr>\n",
       "  </thead>\n",
       "  <tbody>\n",
       "    <tr>\n",
       "      <th>256</th>\n",
       "      <td>0.297652</td>\n",
       "      <td>2.0</td>\n",
       "      <td>2.691</td>\n",
       "      <td>1426.3</td>\n",
       "      <td>2.0</td>\n",
       "      <td>3.12</td>\n",
       "      <td>1653.6</td>\n",
       "      <td>0</td>\n",
       "      <td>0</td>\n",
       "      <td>0</td>\n",
       "      <td>...</td>\n",
       "      <td>0</td>\n",
       "      <td>0</td>\n",
       "      <td>0</td>\n",
       "      <td>0</td>\n",
       "      <td>0</td>\n",
       "      <td>0</td>\n",
       "      <td>0</td>\n",
       "      <td>1</td>\n",
       "      <td>0</td>\n",
       "      <td>0</td>\n",
       "    </tr>\n",
       "    <tr>\n",
       "      <th>471</th>\n",
       "      <td>0.768225</td>\n",
       "      <td>0.0</td>\n",
       "      <td>30.398</td>\n",
       "      <td>1200.0</td>\n",
       "      <td>100.0</td>\n",
       "      <td>30.398</td>\n",
       "      <td>2000.0</td>\n",
       "      <td>0</td>\n",
       "      <td>0</td>\n",
       "      <td>0</td>\n",
       "      <td>...</td>\n",
       "      <td>0</td>\n",
       "      <td>0</td>\n",
       "      <td>0</td>\n",
       "      <td>0</td>\n",
       "      <td>0</td>\n",
       "      <td>0</td>\n",
       "      <td>0</td>\n",
       "      <td>0</td>\n",
       "      <td>0</td>\n",
       "      <td>0</td>\n",
       "    </tr>\n",
       "    <tr>\n",
       "      <th>127</th>\n",
       "      <td>0.879847</td>\n",
       "      <td>0.5</td>\n",
       "      <td>1.0</td>\n",
       "      <td>1000.0</td>\n",
       "      <td>0.5</td>\n",
       "      <td>1.0</td>\n",
       "      <td>1300.0</td>\n",
       "      <td>0</td>\n",
       "      <td>0</td>\n",
       "      <td>0</td>\n",
       "      <td>...</td>\n",
       "      <td>0</td>\n",
       "      <td>0</td>\n",
       "      <td>0</td>\n",
       "      <td>0</td>\n",
       "      <td>0</td>\n",
       "      <td>0</td>\n",
       "      <td>1</td>\n",
       "      <td>0</td>\n",
       "      <td>0</td>\n",
       "      <td>0</td>\n",
       "    </tr>\n",
       "    <tr>\n",
       "      <th>305</th>\n",
       "      <td>0.909856</td>\n",
       "      <td>0.5</td>\n",
       "      <td>1.0</td>\n",
       "      <td>1000.0</td>\n",
       "      <td>0.5</td>\n",
       "      <td>1.0</td>\n",
       "      <td>1300.0</td>\n",
       "      <td>0</td>\n",
       "      <td>0</td>\n",
       "      <td>0</td>\n",
       "      <td>...</td>\n",
       "      <td>0</td>\n",
       "      <td>1</td>\n",
       "      <td>0</td>\n",
       "      <td>0</td>\n",
       "      <td>0</td>\n",
       "      <td>0</td>\n",
       "      <td>0</td>\n",
       "      <td>0</td>\n",
       "      <td>0</td>\n",
       "      <td>0</td>\n",
       "    </tr>\n",
       "    <tr>\n",
       "      <th>199</th>\n",
       "      <td>0.853019</td>\n",
       "      <td>1.0</td>\n",
       "      <td>10.0</td>\n",
       "      <td>945.0</td>\n",
       "      <td>1.0</td>\n",
       "      <td>10.0</td>\n",
       "      <td>1203.0</td>\n",
       "      <td>0</td>\n",
       "      <td>0</td>\n",
       "      <td>0</td>\n",
       "      <td>...</td>\n",
       "      <td>0</td>\n",
       "      <td>0</td>\n",
       "      <td>1</td>\n",
       "      <td>0</td>\n",
       "      <td>0</td>\n",
       "      <td>0</td>\n",
       "      <td>0</td>\n",
       "      <td>0</td>\n",
       "      <td>0</td>\n",
       "      <td>0</td>\n",
       "    </tr>\n",
       "    <tr>\n",
       "      <th>...</th>\n",
       "      <td>...</td>\n",
       "      <td>...</td>\n",
       "      <td>...</td>\n",
       "      <td>...</td>\n",
       "      <td>...</td>\n",
       "      <td>...</td>\n",
       "      <td>...</td>\n",
       "      <td>...</td>\n",
       "      <td>...</td>\n",
       "      <td>...</td>\n",
       "      <td>...</td>\n",
       "      <td>...</td>\n",
       "      <td>...</td>\n",
       "      <td>...</td>\n",
       "      <td>...</td>\n",
       "      <td>...</td>\n",
       "      <td>...</td>\n",
       "      <td>...</td>\n",
       "      <td>...</td>\n",
       "      <td>...</td>\n",
       "      <td>...</td>\n",
       "    </tr>\n",
       "    <tr>\n",
       "      <th>490</th>\n",
       "      <td>0.757903</td>\n",
       "      <td>0.0</td>\n",
       "      <td>16.0</td>\n",
       "      <td>1049.0</td>\n",
       "      <td>0.0</td>\n",
       "      <td>16.0</td>\n",
       "      <td>1209.0</td>\n",
       "      <td>0</td>\n",
       "      <td>0</td>\n",
       "      <td>0</td>\n",
       "      <td>...</td>\n",
       "      <td>0</td>\n",
       "      <td>0</td>\n",
       "      <td>0</td>\n",
       "      <td>0</td>\n",
       "      <td>0</td>\n",
       "      <td>0</td>\n",
       "      <td>0</td>\n",
       "      <td>0</td>\n",
       "      <td>0</td>\n",
       "      <td>0</td>\n",
       "    </tr>\n",
       "    <tr>\n",
       "      <th>419</th>\n",
       "      <td>0.488517</td>\n",
       "      <td>100.0</td>\n",
       "      <td>1.0</td>\n",
       "      <td>1100.0</td>\n",
       "      <td>100.0</td>\n",
       "      <td>1.0</td>\n",
       "      <td>1500.0</td>\n",
       "      <td>0</td>\n",
       "      <td>0</td>\n",
       "      <td>0</td>\n",
       "      <td>...</td>\n",
       "      <td>0</td>\n",
       "      <td>0</td>\n",
       "      <td>0</td>\n",
       "      <td>0</td>\n",
       "      <td>1</td>\n",
       "      <td>0</td>\n",
       "      <td>0</td>\n",
       "      <td>0</td>\n",
       "      <td>0</td>\n",
       "      <td>0</td>\n",
       "    </tr>\n",
       "    <tr>\n",
       "      <th>66</th>\n",
       "      <td>0.508468</td>\n",
       "      <td>100.0</td>\n",
       "      <td>1.0</td>\n",
       "      <td>1100.0</td>\n",
       "      <td>100.0</td>\n",
       "      <td>1.0</td>\n",
       "      <td>1500.0</td>\n",
       "      <td>0</td>\n",
       "      <td>0</td>\n",
       "      <td>0</td>\n",
       "      <td>...</td>\n",
       "      <td>0</td>\n",
       "      <td>0</td>\n",
       "      <td>0</td>\n",
       "      <td>0</td>\n",
       "      <td>0</td>\n",
       "      <td>0</td>\n",
       "      <td>1</td>\n",
       "      <td>0</td>\n",
       "      <td>0</td>\n",
       "      <td>0</td>\n",
       "    </tr>\n",
       "    <tr>\n",
       "      <th>221</th>\n",
       "      <td>0.537750</td>\n",
       "      <td>0.5</td>\n",
       "      <td>0.329</td>\n",
       "      <td>1875.56</td>\n",
       "      <td>0.5</td>\n",
       "      <td>0.329</td>\n",
       "      <td>2107.01</td>\n",
       "      <td>0</td>\n",
       "      <td>0</td>\n",
       "      <td>0</td>\n",
       "      <td>...</td>\n",
       "      <td>0</td>\n",
       "      <td>0</td>\n",
       "      <td>0</td>\n",
       "      <td>0</td>\n",
       "      <td>0</td>\n",
       "      <td>0</td>\n",
       "      <td>0</td>\n",
       "      <td>1</td>\n",
       "      <td>0</td>\n",
       "      <td>0</td>\n",
       "    </tr>\n",
       "    <tr>\n",
       "      <th>230</th>\n",
       "      <td>0.507096</td>\n",
       "      <td>0.7</td>\n",
       "      <td>10.0</td>\n",
       "      <td>423.0</td>\n",
       "      <td>1.0</td>\n",
       "      <td>10.0</td>\n",
       "      <td>423.0</td>\n",
       "      <td>0</td>\n",
       "      <td>0</td>\n",
       "      <td>0</td>\n",
       "      <td>...</td>\n",
       "      <td>0</td>\n",
       "      <td>0</td>\n",
       "      <td>0</td>\n",
       "      <td>0</td>\n",
       "      <td>0</td>\n",
       "      <td>0</td>\n",
       "      <td>0</td>\n",
       "      <td>1</td>\n",
       "      <td>0</td>\n",
       "      <td>0</td>\n",
       "    </tr>\n",
       "  </tbody>\n",
       "</table>\n",
       "<p>820 rows × 102 columns</p>\n",
       "</div>\n",
       "      <button class=\"colab-df-convert\" onclick=\"convertToInteractive('df-e5ef069b-6117-4f66-ac90-d897893aa3c2')\"\n",
       "              title=\"Convert this dataframe to an interactive table.\"\n",
       "              style=\"display:none;\">\n",
       "        \n",
       "  <svg xmlns=\"http://www.w3.org/2000/svg\" height=\"24px\"viewBox=\"0 0 24 24\"\n",
       "       width=\"24px\">\n",
       "    <path d=\"M0 0h24v24H0V0z\" fill=\"none\"/>\n",
       "    <path d=\"M18.56 5.44l.94 2.06.94-2.06 2.06-.94-2.06-.94-.94-2.06-.94 2.06-2.06.94zm-11 1L8.5 8.5l.94-2.06 2.06-.94-2.06-.94L8.5 2.5l-.94 2.06-2.06.94zm10 10l.94 2.06.94-2.06 2.06-.94-2.06-.94-.94-2.06-.94 2.06-2.06.94z\"/><path d=\"M17.41 7.96l-1.37-1.37c-.4-.4-.92-.59-1.43-.59-.52 0-1.04.2-1.43.59L10.3 9.45l-7.72 7.72c-.78.78-.78 2.05 0 2.83L4 21.41c.39.39.9.59 1.41.59.51 0 1.02-.2 1.41-.59l7.78-7.78 2.81-2.81c.8-.78.8-2.07 0-2.86zM5.41 20L4 18.59l7.72-7.72 1.47 1.35L5.41 20z\"/>\n",
       "  </svg>\n",
       "      </button>\n",
       "      \n",
       "  <style>\n",
       "    .colab-df-container {\n",
       "      display:flex;\n",
       "      flex-wrap:wrap;\n",
       "      gap: 12px;\n",
       "    }\n",
       "\n",
       "    .colab-df-convert {\n",
       "      background-color: #E8F0FE;\n",
       "      border: none;\n",
       "      border-radius: 50%;\n",
       "      cursor: pointer;\n",
       "      display: none;\n",
       "      fill: #1967D2;\n",
       "      height: 32px;\n",
       "      padding: 0 0 0 0;\n",
       "      width: 32px;\n",
       "    }\n",
       "\n",
       "    .colab-df-convert:hover {\n",
       "      background-color: #E2EBFA;\n",
       "      box-shadow: 0px 1px 2px rgba(60, 64, 67, 0.3), 0px 1px 3px 1px rgba(60, 64, 67, 0.15);\n",
       "      fill: #174EA6;\n",
       "    }\n",
       "\n",
       "    [theme=dark] .colab-df-convert {\n",
       "      background-color: #3B4455;\n",
       "      fill: #D2E3FC;\n",
       "    }\n",
       "\n",
       "    [theme=dark] .colab-df-convert:hover {\n",
       "      background-color: #434B5C;\n",
       "      box-shadow: 0px 1px 3px 1px rgba(0, 0, 0, 0.15);\n",
       "      filter: drop-shadow(0px 1px 2px rgba(0, 0, 0, 0.3));\n",
       "      fill: #FFFFFF;\n",
       "    }\n",
       "  </style>\n",
       "\n",
       "      <script>\n",
       "        const buttonEl =\n",
       "          document.querySelector('#df-e5ef069b-6117-4f66-ac90-d897893aa3c2 button.colab-df-convert');\n",
       "        buttonEl.style.display =\n",
       "          google.colab.kernel.accessAllowed ? 'block' : 'none';\n",
       "\n",
       "        async function convertToInteractive(key) {\n",
       "          const element = document.querySelector('#df-e5ef069b-6117-4f66-ac90-d897893aa3c2');\n",
       "          const dataTable =\n",
       "            await google.colab.kernel.invokeFunction('convertToInteractive',\n",
       "                                                     [key], {});\n",
       "          if (!dataTable) return;\n",
       "\n",
       "          const docLinkHtml = 'Like what you see? Visit the ' +\n",
       "            '<a target=\"_blank\" href=https://colab.research.google.com/notebooks/data_table.ipynb>data table notebook</a>'\n",
       "            + ' to learn more about interactive tables.';\n",
       "          element.innerHTML = '';\n",
       "          dataTable['output_type'] = 'display_data';\n",
       "          await google.colab.output.renderOutput(dataTable, element);\n",
       "          const docLink = document.createElement('div');\n",
       "          docLink.innerHTML = docLinkHtml;\n",
       "          element.appendChild(docLink);\n",
       "        }\n",
       "      </script>\n",
       "    </div>\n",
       "  </div>\n",
       "  "
      ]
     },
     "metadata": {},
     "execution_count": 11
    }
   ]
  },
  {
   "cell_type": "markdown",
   "source": [
    "An attempt to predict with different models"
   ],
   "metadata": {
    "collapsed": false,
    "pycharm": {
     "name": "#%% md\n"
    }
   }
  },
  {
   "cell_type": "code",
   "source": [
    "from sklearn.linear_model import Ridge\n",
    "from sklearn.linear_model import LinearRegression\n",
    "import numpy as np\n",
    "from sklearn.model_selection import train_test_split\n",
    "x_train, x_test = train_test_split(x, test_size=0.2)\n",
    "y_train, y_test = train_test_split(norm_y, test_size=0.2)\n",
    "clfLin = LinearRegression()\n",
    "clf = Ridge(alpha=1.0)\n",
    "clf.fit(x_train, y_train)\n",
    "clfLin.fit(x_train, y_train)"
   ],
   "metadata": {
    "colab": {
     "base_uri": "https://localhost:8080/"
    },
    "id": "ssuLgH8OMi8M",
    "outputId": "5b11acbd-3a15-4e70-8419-e3f5250b2d08",
    "pycharm": {
     "name": "#%%\n"
    }
   },
   "execution_count": null,
   "outputs": [
    {
     "output_type": "execute_result",
     "data": {
      "text/plain": [
       "LinearRegression()"
      ]
     },
     "metadata": {},
     "execution_count": 12
    }
   ]
  },
  {
   "cell_type": "code",
   "source": [
    "predictions = clf.predict(x_test)\n",
    "predictionsLin = clfLin.predict(x_test)\n",
    "from sklearn import metrics\n",
    "print(metrics.r2_score(y_test,predictions))\n",
    "print(metrics.explained_variance_score(y_test,predictions))\n",
    "print(metrics.mean_squared_error(y_test,predictions))"
   ],
   "metadata": {
    "id": "YOsBSiN4X6Tm",
    "colab": {
     "base_uri": "https://localhost:8080/"
    },
    "outputId": "aa7d86e2-8a56-4163-816f-43c4386a75db",
    "pycharm": {
     "name": "#%%\n"
    }
   },
   "execution_count": null,
   "outputs": [
    {
     "output_type": "stream",
     "name": "stdout",
     "text": [
      "-0.005472488828780486\n",
      "-0.0018881121204750162\n",
      "0.050982859663164355\n"
     ]
    }
   ]
  },
  {
   "cell_type": "code",
   "source": [
    "print(metrics.r2_score(y_test,predictionsLin))\n",
    "print(metrics.explained_variance_score(y_test,predictionsLin))\n",
    "print(metrics.mean_squared_error(y_test,predictionsLin))"
   ],
   "metadata": {
    "colab": {
     "base_uri": "https://localhost:8080/"
    },
    "id": "G1b9XksCJYpM",
    "outputId": "761d0495-8fad-4d3e-be1c-b02beb1765ca",
    "pycharm": {
     "name": "#%%\n"
    }
   },
   "execution_count": null,
   "outputs": [
    {
     "output_type": "stream",
     "name": "stdout",
     "text": [
      "-0.005508865278422759\n",
      "-0.0019254410741411654\n",
      "0.05098470414468698\n"
     ]
    }
   ]
  },
  {
   "cell_type": "code",
   "source": [
    "from sklearn.ensemble import RandomForestRegressor\n",
    "regr = RandomForestRegressor(max_depth=5, random_state=0)\n",
    "regr.fit(x_train, y_train)\n",
    "predictions = regr.predict(x_test)\n",
    "print(metrics.r2_score(y_test,predictions))\n",
    "print(metrics.explained_variance_score(y_test,predictions))\n",
    "print(metrics.mean_squared_error(y_test,predictions))"
   ],
   "metadata": {
    "colab": {
     "base_uri": "https://localhost:8080/"
    },
    "id": "BcmTgHlVj5CZ",
    "outputId": "c0bb6411-36a6-4979-cd09-30dfd04721f4",
    "pycharm": {
     "name": "#%%\n"
    }
   },
   "execution_count": null,
   "outputs": [
    {
     "output_type": "stream",
     "name": "stdout",
     "text": [
      "-0.04659765616284828\n",
      "-0.039225687273408916\n",
      "0.05306812669743123\n"
     ]
    }
   ]
  },
  {
   "cell_type": "markdown",
   "source": [
    "Try with k-fold "
   ],
   "metadata": {
    "id": "hXTlDZn4kdxV",
    "pycharm": {
     "name": "#%% md\n"
    }
   }
  },
  {
   "cell_type": "code",
   "source": [
    "import sklearn\n",
    "from sklearn.model_selection import train_test_split\n",
    "from sklearn.preprocessing import MinMaxScaler\n",
    "from sklearn.preprocessing import PolynomialFeatures\n",
    "from sklearn.preprocessing import scale\n",
    "from sklearn.feature_selection import RFE\n",
    "from sklearn.linear_model import LinearRegression\n",
    "from sklearn.model_selection import cross_val_score\n",
    "from sklearn.model_selection import KFold\n",
    "from sklearn.model_selection import GridSearchCV\n",
    "from sklearn.pipeline import make_pipeline\n",
    "\n",
    "lm = LinearRegression()\n",
    "#688 - the amount of train set\n",
    "folds = KFold(n_splits = 200, shuffle = True, random_state = 100)\n",
    "scores = cross_val_score(lm, x_train, y_train, scoring='r2', cv=folds)\n",
    "print(scores)"
   ],
   "metadata": {
    "id": "cJJaQ0cGkdgC",
    "pycharm": {
     "name": "#%%\n"
    }
   },
   "execution_count": null,
   "outputs": []
  },
  {
   "cell_type": "markdown",
   "source": [
    "Discovering corelations in collected data"
   ],
   "metadata": {
    "id": "DCSbdcuEDGQN",
    "pycharm": {
     "name": "#%% md\n"
    }
   }
  },
  {
   "cell_type": "code",
   "source": [
    "import pandas as pd\n",
    "data = pd.read_csv(\"/content/drive/My Drive/MDP/Collected_data/csv_fileCRECK_2100_PAH_2110_AN.csv\")\n",
    "for filename in os.listdir(\"/content/drive/My Drive/MDP/Collected_data/\"):\n",
    "    if filename != \"csv_fileCRECK_2100_PAH_2110_AN\":\n",
    "      print(filename)\n",
    "      inter_data = pd.read_csv(\"/content/drive/My Drive/MDP/Collected_data/\"+filename)\n",
    "      data = pd.concat([data, inter_data], ignore_index=True)\n",
    "data.head()"
   ],
   "metadata": {
    "colab": {
     "base_uri": "https://localhost:8080/",
     "height": 513
    },
    "id": "JeAmb246DC-W",
    "outputId": "e1e32c9a-530d-459c-e9b6-29d86d6edbdd",
    "pycharm": {
     "name": "#%%\n"
    }
   },
   "execution_count": null,
   "outputs": [
    {
     "output_type": "stream",
     "name": "stdout",
     "text": [
      "csv_filePOLIMI_1212_C1C3.csv\n",
      "csv_fileCRECK_2003_C1C3_DME_LTHT.csv\n",
      "csv_filePOLIMI_1407_PAH_RF_HT.csv\n",
      "csv_fileCRECK_2100_PAH_2110_AN.csv\n"
     ]
    },
    {
     "output_type": "execute_result",
     "data": {
      "text/plain": [
       "   chemModel.id  experiment.id experiment.fuels experiment.ignition_type  \\\n",
       "0            24            201           [\"H2\"]              OH-d/dt max   \n",
       "1            24            201           [\"H2\"]              OH-d/dt max   \n",
       "2            24            201           [\"H2\"]              OH-d/dt max   \n",
       "3            24            201           [\"H2\"]              OH-d/dt max   \n",
       "4            24            201           [\"H2\"]              OH-d/dt max   \n",
       "\n",
       "  experiment.reactor                                  file_paper.author  \\\n",
       "0         shock tube  Mathieu, Olivier; Deguillaume, Fiona; Petersen...   \n",
       "1         shock tube  Mathieu, Olivier; Deguillaume, Fiona; Petersen...   \n",
       "2         shock tube  Mathieu, Olivier; Deguillaume, Fiona; Petersen...   \n",
       "3         shock tube  Mathieu, Olivier; Deguillaume, Fiona; Petersen...   \n",
       "4         shock tube  Mathieu, Olivier; Deguillaume, Fiona; Petersen...   \n",
       "\n",
       "                              file_paper.description  file_paper.year  \\\n",
       "0  Mathieu, Olivier; Deguillaume, Fiona; Petersen...             2014   \n",
       "1  Mathieu, Olivier; Deguillaume, Fiona; Petersen...             2014   \n",
       "2  Mathieu, Olivier; Deguillaume, Fiona; Petersen...             2014   \n",
       "3  Mathieu, Olivier; Deguillaume, Fiona; Petersen...             2014   \n",
       "4  Mathieu, Olivier; Deguillaume, Fiona; Petersen...             2014   \n",
       "\n",
       "   uncertainty_0  uncertainty_1  uncertainty_2         error  \n",
       "0       0.000000       1.000000       1.000000  3.330669e-16  \n",
       "1       0.016139       0.945155       0.554368  6.228670e-02  \n",
       "2       0.041021       0.710957       0.937880  8.682599e-03  \n",
       "3       0.089768       0.563876       0.057575  1.317242e-01  \n",
       "4       0.106110       0.439859       0.629690  5.175883e-02  "
      ],
      "text/html": [
       "\n",
       "  <div id=\"df-b4253f9c-8550-4a63-a034-711ba5f74552\">\n",
       "    <div class=\"colab-df-container\">\n",
       "      <div>\n",
       "<style scoped>\n",
       "    .dataframe tbody tr th:only-of-type {\n",
       "        vertical-align: middle;\n",
       "    }\n",
       "\n",
       "    .dataframe tbody tr th {\n",
       "        vertical-align: top;\n",
       "    }\n",
       "\n",
       "    .dataframe thead th {\n",
       "        text-align: right;\n",
       "    }\n",
       "</style>\n",
       "<table border=\"1\" class=\"dataframe\">\n",
       "  <thead>\n",
       "    <tr style=\"text-align: right;\">\n",
       "      <th></th>\n",
       "      <th>chemModel.id</th>\n",
       "      <th>experiment.id</th>\n",
       "      <th>experiment.fuels</th>\n",
       "      <th>experiment.ignition_type</th>\n",
       "      <th>experiment.reactor</th>\n",
       "      <th>file_paper.author</th>\n",
       "      <th>file_paper.description</th>\n",
       "      <th>file_paper.year</th>\n",
       "      <th>uncertainty_0</th>\n",
       "      <th>uncertainty_1</th>\n",
       "      <th>uncertainty_2</th>\n",
       "      <th>error</th>\n",
       "    </tr>\n",
       "  </thead>\n",
       "  <tbody>\n",
       "    <tr>\n",
       "      <th>0</th>\n",
       "      <td>24</td>\n",
       "      <td>201</td>\n",
       "      <td>[\"H2\"]</td>\n",
       "      <td>OH-d/dt max</td>\n",
       "      <td>shock tube</td>\n",
       "      <td>Mathieu, Olivier; Deguillaume, Fiona; Petersen...</td>\n",
       "      <td>Mathieu, Olivier; Deguillaume, Fiona; Petersen...</td>\n",
       "      <td>2014</td>\n",
       "      <td>0.000000</td>\n",
       "      <td>1.000000</td>\n",
       "      <td>1.000000</td>\n",
       "      <td>3.330669e-16</td>\n",
       "    </tr>\n",
       "    <tr>\n",
       "      <th>1</th>\n",
       "      <td>24</td>\n",
       "      <td>201</td>\n",
       "      <td>[\"H2\"]</td>\n",
       "      <td>OH-d/dt max</td>\n",
       "      <td>shock tube</td>\n",
       "      <td>Mathieu, Olivier; Deguillaume, Fiona; Petersen...</td>\n",
       "      <td>Mathieu, Olivier; Deguillaume, Fiona; Petersen...</td>\n",
       "      <td>2014</td>\n",
       "      <td>0.016139</td>\n",
       "      <td>0.945155</td>\n",
       "      <td>0.554368</td>\n",
       "      <td>6.228670e-02</td>\n",
       "    </tr>\n",
       "    <tr>\n",
       "      <th>2</th>\n",
       "      <td>24</td>\n",
       "      <td>201</td>\n",
       "      <td>[\"H2\"]</td>\n",
       "      <td>OH-d/dt max</td>\n",
       "      <td>shock tube</td>\n",
       "      <td>Mathieu, Olivier; Deguillaume, Fiona; Petersen...</td>\n",
       "      <td>Mathieu, Olivier; Deguillaume, Fiona; Petersen...</td>\n",
       "      <td>2014</td>\n",
       "      <td>0.041021</td>\n",
       "      <td>0.710957</td>\n",
       "      <td>0.937880</td>\n",
       "      <td>8.682599e-03</td>\n",
       "    </tr>\n",
       "    <tr>\n",
       "      <th>3</th>\n",
       "      <td>24</td>\n",
       "      <td>201</td>\n",
       "      <td>[\"H2\"]</td>\n",
       "      <td>OH-d/dt max</td>\n",
       "      <td>shock tube</td>\n",
       "      <td>Mathieu, Olivier; Deguillaume, Fiona; Petersen...</td>\n",
       "      <td>Mathieu, Olivier; Deguillaume, Fiona; Petersen...</td>\n",
       "      <td>2014</td>\n",
       "      <td>0.089768</td>\n",
       "      <td>0.563876</td>\n",
       "      <td>0.057575</td>\n",
       "      <td>1.317242e-01</td>\n",
       "    </tr>\n",
       "    <tr>\n",
       "      <th>4</th>\n",
       "      <td>24</td>\n",
       "      <td>201</td>\n",
       "      <td>[\"H2\"]</td>\n",
       "      <td>OH-d/dt max</td>\n",
       "      <td>shock tube</td>\n",
       "      <td>Mathieu, Olivier; Deguillaume, Fiona; Petersen...</td>\n",
       "      <td>Mathieu, Olivier; Deguillaume, Fiona; Petersen...</td>\n",
       "      <td>2014</td>\n",
       "      <td>0.106110</td>\n",
       "      <td>0.439859</td>\n",
       "      <td>0.629690</td>\n",
       "      <td>5.175883e-02</td>\n",
       "    </tr>\n",
       "  </tbody>\n",
       "</table>\n",
       "</div>\n",
       "      <button class=\"colab-df-convert\" onclick=\"convertToInteractive('df-b4253f9c-8550-4a63-a034-711ba5f74552')\"\n",
       "              title=\"Convert this dataframe to an interactive table.\"\n",
       "              style=\"display:none;\">\n",
       "        \n",
       "  <svg xmlns=\"http://www.w3.org/2000/svg\" height=\"24px\"viewBox=\"0 0 24 24\"\n",
       "       width=\"24px\">\n",
       "    <path d=\"M0 0h24v24H0V0z\" fill=\"none\"/>\n",
       "    <path d=\"M18.56 5.44l.94 2.06.94-2.06 2.06-.94-2.06-.94-.94-2.06-.94 2.06-2.06.94zm-11 1L8.5 8.5l.94-2.06 2.06-.94-2.06-.94L8.5 2.5l-.94 2.06-2.06.94zm10 10l.94 2.06.94-2.06 2.06-.94-2.06-.94-.94-2.06-.94 2.06-2.06.94z\"/><path d=\"M17.41 7.96l-1.37-1.37c-.4-.4-.92-.59-1.43-.59-.52 0-1.04.2-1.43.59L10.3 9.45l-7.72 7.72c-.78.78-.78 2.05 0 2.83L4 21.41c.39.39.9.59 1.41.59.51 0 1.02-.2 1.41-.59l7.78-7.78 2.81-2.81c.8-.78.8-2.07 0-2.86zM5.41 20L4 18.59l7.72-7.72 1.47 1.35L5.41 20z\"/>\n",
       "  </svg>\n",
       "      </button>\n",
       "      \n",
       "  <style>\n",
       "    .colab-df-container {\n",
       "      display:flex;\n",
       "      flex-wrap:wrap;\n",
       "      gap: 12px;\n",
       "    }\n",
       "\n",
       "    .colab-df-convert {\n",
       "      background-color: #E8F0FE;\n",
       "      border: none;\n",
       "      border-radius: 50%;\n",
       "      cursor: pointer;\n",
       "      display: none;\n",
       "      fill: #1967D2;\n",
       "      height: 32px;\n",
       "      padding: 0 0 0 0;\n",
       "      width: 32px;\n",
       "    }\n",
       "\n",
       "    .colab-df-convert:hover {\n",
       "      background-color: #E2EBFA;\n",
       "      box-shadow: 0px 1px 2px rgba(60, 64, 67, 0.3), 0px 1px 3px 1px rgba(60, 64, 67, 0.15);\n",
       "      fill: #174EA6;\n",
       "    }\n",
       "\n",
       "    [theme=dark] .colab-df-convert {\n",
       "      background-color: #3B4455;\n",
       "      fill: #D2E3FC;\n",
       "    }\n",
       "\n",
       "    [theme=dark] .colab-df-convert:hover {\n",
       "      background-color: #434B5C;\n",
       "      box-shadow: 0px 1px 3px 1px rgba(0, 0, 0, 0.15);\n",
       "      filter: drop-shadow(0px 1px 2px rgba(0, 0, 0, 0.3));\n",
       "      fill: #FFFFFF;\n",
       "    }\n",
       "  </style>\n",
       "\n",
       "      <script>\n",
       "        const buttonEl =\n",
       "          document.querySelector('#df-b4253f9c-8550-4a63-a034-711ba5f74552 button.colab-df-convert');\n",
       "        buttonEl.style.display =\n",
       "          google.colab.kernel.accessAllowed ? 'block' : 'none';\n",
       "\n",
       "        async function convertToInteractive(key) {\n",
       "          const element = document.querySelector('#df-b4253f9c-8550-4a63-a034-711ba5f74552');\n",
       "          const dataTable =\n",
       "            await google.colab.kernel.invokeFunction('convertToInteractive',\n",
       "                                                     [key], {});\n",
       "          if (!dataTable) return;\n",
       "\n",
       "          const docLinkHtml = 'Like what you see? Visit the ' +\n",
       "            '<a target=\"_blank\" href=https://colab.research.google.com/notebooks/data_table.ipynb>data table notebook</a>'\n",
       "            + ' to learn more about interactive tables.';\n",
       "          element.innerHTML = '';\n",
       "          dataTable['output_type'] = 'display_data';\n",
       "          await google.colab.output.renderOutput(dataTable, element);\n",
       "          const docLink = document.createElement('div');\n",
       "          docLink.innerHTML = docLinkHtml;\n",
       "          element.appendChild(docLink);\n",
       "        }\n",
       "      </script>\n",
       "    </div>\n",
       "  </div>\n",
       "  "
      ]
     },
     "metadata": {},
     "execution_count": 4
    }
   ]
  },
  {
   "cell_type": "code",
   "source": [
    "authors = data[\"file_paper.author\"].unique()\n",
    "years = data[\"file_paper.year\"].unique()\n",
    "models = data[\"chemModel.id\"].unique()"
   ],
   "metadata": {
    "id": "bN0NNVO8E3sY",
    "pycharm": {
     "name": "#%%\n"
    }
   },
   "execution_count": null,
   "outputs": []
  },
  {
   "cell_type": "code",
   "source": [
    "data.corr()"
   ],
   "metadata": {
    "colab": {
     "base_uri": "https://localhost:8080/",
     "height": 269
    },
    "id": "p2Wml7XkGtdt",
    "outputId": "049566e3-09ae-41f7-d8d2-b51dc23a2c98",
    "pycharm": {
     "name": "#%%\n"
    }
   },
   "execution_count": null,
   "outputs": [
    {
     "output_type": "execute_result",
     "data": {
      "text/plain": [
       "                 chemModel.id  experiment.id  file_paper.year  uncertainty_0  \\\n",
       "chemModel.id         1.000000       0.004246         0.002880      -0.000226   \n",
       "experiment.id        0.004246       1.000000         0.346965      -0.122378   \n",
       "file_paper.year      0.002880       0.346965         1.000000      -0.034735   \n",
       "uncertainty_0       -0.000226      -0.122378        -0.034735       1.000000   \n",
       "uncertainty_1       -0.000426       0.094576         0.090789      -0.781479   \n",
       "uncertainty_2       -0.018860      -0.057194        -0.045761       0.471747   \n",
       "error                0.096215       0.044230         0.002687      -0.118557   \n",
       "\n",
       "                 uncertainty_1  uncertainty_2     error  \n",
       "chemModel.id         -0.000426      -0.018860  0.096215  \n",
       "experiment.id         0.094576      -0.057194  0.044230  \n",
       "file_paper.year       0.090789      -0.045761  0.002687  \n",
       "uncertainty_0        -0.781479       0.471747 -0.118557  \n",
       "uncertainty_1         1.000000      -0.260961  0.231664  \n",
       "uncertainty_2        -0.260961       1.000000 -0.332089  \n",
       "error                 0.231664      -0.332089  1.000000  "
      ],
      "text/html": [
       "\n",
       "  <div id=\"df-ccb8d44a-6d8b-49a7-b6db-a80e2b07085d\">\n",
       "    <div class=\"colab-df-container\">\n",
       "      <div>\n",
       "<style scoped>\n",
       "    .dataframe tbody tr th:only-of-type {\n",
       "        vertical-align: middle;\n",
       "    }\n",
       "\n",
       "    .dataframe tbody tr th {\n",
       "        vertical-align: top;\n",
       "    }\n",
       "\n",
       "    .dataframe thead th {\n",
       "        text-align: right;\n",
       "    }\n",
       "</style>\n",
       "<table border=\"1\" class=\"dataframe\">\n",
       "  <thead>\n",
       "    <tr style=\"text-align: right;\">\n",
       "      <th></th>\n",
       "      <th>chemModel.id</th>\n",
       "      <th>experiment.id</th>\n",
       "      <th>file_paper.year</th>\n",
       "      <th>uncertainty_0</th>\n",
       "      <th>uncertainty_1</th>\n",
       "      <th>uncertainty_2</th>\n",
       "      <th>error</th>\n",
       "    </tr>\n",
       "  </thead>\n",
       "  <tbody>\n",
       "    <tr>\n",
       "      <th>chemModel.id</th>\n",
       "      <td>1.000000</td>\n",
       "      <td>0.004246</td>\n",
       "      <td>0.002880</td>\n",
       "      <td>-0.000226</td>\n",
       "      <td>-0.000426</td>\n",
       "      <td>-0.018860</td>\n",
       "      <td>0.096215</td>\n",
       "    </tr>\n",
       "    <tr>\n",
       "      <th>experiment.id</th>\n",
       "      <td>0.004246</td>\n",
       "      <td>1.000000</td>\n",
       "      <td>0.346965</td>\n",
       "      <td>-0.122378</td>\n",
       "      <td>0.094576</td>\n",
       "      <td>-0.057194</td>\n",
       "      <td>0.044230</td>\n",
       "    </tr>\n",
       "    <tr>\n",
       "      <th>file_paper.year</th>\n",
       "      <td>0.002880</td>\n",
       "      <td>0.346965</td>\n",
       "      <td>1.000000</td>\n",
       "      <td>-0.034735</td>\n",
       "      <td>0.090789</td>\n",
       "      <td>-0.045761</td>\n",
       "      <td>0.002687</td>\n",
       "    </tr>\n",
       "    <tr>\n",
       "      <th>uncertainty_0</th>\n",
       "      <td>-0.000226</td>\n",
       "      <td>-0.122378</td>\n",
       "      <td>-0.034735</td>\n",
       "      <td>1.000000</td>\n",
       "      <td>-0.781479</td>\n",
       "      <td>0.471747</td>\n",
       "      <td>-0.118557</td>\n",
       "    </tr>\n",
       "    <tr>\n",
       "      <th>uncertainty_1</th>\n",
       "      <td>-0.000426</td>\n",
       "      <td>0.094576</td>\n",
       "      <td>0.090789</td>\n",
       "      <td>-0.781479</td>\n",
       "      <td>1.000000</td>\n",
       "      <td>-0.260961</td>\n",
       "      <td>0.231664</td>\n",
       "    </tr>\n",
       "    <tr>\n",
       "      <th>uncertainty_2</th>\n",
       "      <td>-0.018860</td>\n",
       "      <td>-0.057194</td>\n",
       "      <td>-0.045761</td>\n",
       "      <td>0.471747</td>\n",
       "      <td>-0.260961</td>\n",
       "      <td>1.000000</td>\n",
       "      <td>-0.332089</td>\n",
       "    </tr>\n",
       "    <tr>\n",
       "      <th>error</th>\n",
       "      <td>0.096215</td>\n",
       "      <td>0.044230</td>\n",
       "      <td>0.002687</td>\n",
       "      <td>-0.118557</td>\n",
       "      <td>0.231664</td>\n",
       "      <td>-0.332089</td>\n",
       "      <td>1.000000</td>\n",
       "    </tr>\n",
       "  </tbody>\n",
       "</table>\n",
       "</div>\n",
       "      <button class=\"colab-df-convert\" onclick=\"convertToInteractive('df-ccb8d44a-6d8b-49a7-b6db-a80e2b07085d')\"\n",
       "              title=\"Convert this dataframe to an interactive table.\"\n",
       "              style=\"display:none;\">\n",
       "        \n",
       "  <svg xmlns=\"http://www.w3.org/2000/svg\" height=\"24px\"viewBox=\"0 0 24 24\"\n",
       "       width=\"24px\">\n",
       "    <path d=\"M0 0h24v24H0V0z\" fill=\"none\"/>\n",
       "    <path d=\"M18.56 5.44l.94 2.06.94-2.06 2.06-.94-2.06-.94-.94-2.06-.94 2.06-2.06.94zm-11 1L8.5 8.5l.94-2.06 2.06-.94-2.06-.94L8.5 2.5l-.94 2.06-2.06.94zm10 10l.94 2.06.94-2.06 2.06-.94-2.06-.94-.94-2.06-.94 2.06-2.06.94z\"/><path d=\"M17.41 7.96l-1.37-1.37c-.4-.4-.92-.59-1.43-.59-.52 0-1.04.2-1.43.59L10.3 9.45l-7.72 7.72c-.78.78-.78 2.05 0 2.83L4 21.41c.39.39.9.59 1.41.59.51 0 1.02-.2 1.41-.59l7.78-7.78 2.81-2.81c.8-.78.8-2.07 0-2.86zM5.41 20L4 18.59l7.72-7.72 1.47 1.35L5.41 20z\"/>\n",
       "  </svg>\n",
       "      </button>\n",
       "      \n",
       "  <style>\n",
       "    .colab-df-container {\n",
       "      display:flex;\n",
       "      flex-wrap:wrap;\n",
       "      gap: 12px;\n",
       "    }\n",
       "\n",
       "    .colab-df-convert {\n",
       "      background-color: #E8F0FE;\n",
       "      border: none;\n",
       "      border-radius: 50%;\n",
       "      cursor: pointer;\n",
       "      display: none;\n",
       "      fill: #1967D2;\n",
       "      height: 32px;\n",
       "      padding: 0 0 0 0;\n",
       "      width: 32px;\n",
       "    }\n",
       "\n",
       "    .colab-df-convert:hover {\n",
       "      background-color: #E2EBFA;\n",
       "      box-shadow: 0px 1px 2px rgba(60, 64, 67, 0.3), 0px 1px 3px 1px rgba(60, 64, 67, 0.15);\n",
       "      fill: #174EA6;\n",
       "    }\n",
       "\n",
       "    [theme=dark] .colab-df-convert {\n",
       "      background-color: #3B4455;\n",
       "      fill: #D2E3FC;\n",
       "    }\n",
       "\n",
       "    [theme=dark] .colab-df-convert:hover {\n",
       "      background-color: #434B5C;\n",
       "      box-shadow: 0px 1px 3px 1px rgba(0, 0, 0, 0.15);\n",
       "      filter: drop-shadow(0px 1px 2px rgba(0, 0, 0, 0.3));\n",
       "      fill: #FFFFFF;\n",
       "    }\n",
       "  </style>\n",
       "\n",
       "      <script>\n",
       "        const buttonEl =\n",
       "          document.querySelector('#df-ccb8d44a-6d8b-49a7-b6db-a80e2b07085d button.colab-df-convert');\n",
       "        buttonEl.style.display =\n",
       "          google.colab.kernel.accessAllowed ? 'block' : 'none';\n",
       "\n",
       "        async function convertToInteractive(key) {\n",
       "          const element = document.querySelector('#df-ccb8d44a-6d8b-49a7-b6db-a80e2b07085d');\n",
       "          const dataTable =\n",
       "            await google.colab.kernel.invokeFunction('convertToInteractive',\n",
       "                                                     [key], {});\n",
       "          if (!dataTable) return;\n",
       "\n",
       "          const docLinkHtml = 'Like what you see? Visit the ' +\n",
       "            '<a target=\"_blank\" href=https://colab.research.google.com/notebooks/data_table.ipynb>data table notebook</a>'\n",
       "            + ' to learn more about interactive tables.';\n",
       "          element.innerHTML = '';\n",
       "          dataTable['output_type'] = 'display_data';\n",
       "          await google.colab.output.renderOutput(dataTable, element);\n",
       "          const docLink = document.createElement('div');\n",
       "          docLink.innerHTML = docLinkHtml;\n",
       "          element.appendChild(docLink);\n",
       "        }\n",
       "      </script>\n",
       "    </div>\n",
       "  </div>\n",
       "  "
      ]
     },
     "metadata": {},
     "execution_count": 19
    }
   ]
  },
  {
   "cell_type": "code",
   "source": [
    "for author in authors:\n",
    "  print(data[data[\"file_paper.author\"]==author].describe())"
   ],
   "metadata": {
    "id": "3Pcv0LV1HZq-",
    "pycharm": {
     "name": "#%%\n"
    }
   },
   "execution_count": null,
   "outputs": []
  },
  {
   "cell_type": "code",
   "source": [
    "for year in years:\n",
    "  print(data[data[\"file_paper.year\"]==year].describe())"
   ],
   "metadata": {
    "id": "iLP6Iuh2I0Ql",
    "pycharm": {
     "name": "#%%\n"
    }
   },
   "execution_count": null,
   "outputs": []
  },
  {
   "cell_type": "code",
   "source": [
    "for model in models:\n",
    "  print(data[data[\"chemModel.id\"]==model].describe())"
   ],
   "metadata": {
    "id": "lAI-w46XJFwF",
    "pycharm": {
     "name": "#%%\n"
    }
   },
   "execution_count": null,
   "outputs": []
  },
  {
   "cell_type": "code",
   "source": [
    "authors"
   ],
   "metadata": {
    "id": "o_FZx_qI_8Ru",
    "pycharm": {
     "name": "#%%\n"
    }
   },
   "execution_count": null,
   "outputs": []
  },
  {
   "cell_type": "code",
   "source": [
    "pd.merge(data.groupby('file_paper.author')['error'].mean(), data.groupby('file_paper.author')['error'].std(), on=\"file_paper.author\").head()"
   ],
   "metadata": {
    "id": "5kplLr7TD3ml",
    "pycharm": {
     "name": "#%%\n"
    }
   },
   "execution_count": null,
   "outputs": []
  },
  {
   "cell_type": "markdown",
   "source": [
    "Error mean and std errors for authors, year and model"
   ],
   "metadata": {
    "id": "Pua3AKBnFcXS",
    "pycharm": {
     "name": "#%% md\n"
    }
   }
  },
  {
   "cell_type": "code",
   "source": [
    "pd.merge(data.groupby('file_paper.author')['error'].mean(), data.groupby('file_paper.author')['error'].std(), on=\"file_paper.author\").rename(columns={\"error_x\": \"mean\", \"error_y\": \"std\"}).plot.bar()"
   ],
   "metadata": {
    "id": "aFng4Q8n_dy-",
    "pycharm": {
     "name": "#%%\n"
    }
   },
   "execution_count": null,
   "outputs": []
  },
  {
   "cell_type": "code",
   "source": [
    "pd.merge(data.groupby('file_paper.year')['error'].mean(), data.groupby('file_paper.year')['error'].std(), on=\"file_paper.year\").rename(columns={\"error_x\": \"mean\", \"error_y\": \"std\"}).plot.bar()"
   ],
   "metadata": {
    "id": "0GGO6EpiE3Rf",
    "pycharm": {
     "name": "#%%\n"
    }
   },
   "execution_count": null,
   "outputs": []
  },
  {
   "cell_type": "code",
   "source": [
    "pd.merge(data.groupby('chemModel.id')['error'].mean(), data.groupby('chemModel.id')['error'].std(), on=\"chemModel.id\").rename(columns={\"error_x\": \"mean\", \"error_y\": \"std\"}).plot.bar()"
   ],
   "metadata": {
    "id": "KQ7vmHbZFBHZ",
    "pycharm": {
     "name": "#%%\n"
    }
   },
   "execution_count": null,
   "outputs": []
  },
  {
   "cell_type": "markdown",
   "source": [
    "Uncertainty mean and std errors for authors, year and model"
   ],
   "metadata": {
    "id": "W5byg3AGF86D",
    "pycharm": {
     "name": "#%% md\n"
    }
   }
  },
  {
   "cell_type": "code",
   "source": [
    "pd.merge(data.groupby('file_paper.author')['uncertainty_2'].mean(), data.groupby('file_paper.author')['uncertainty_2'].std(), on=\"file_paper.author\").rename(columns={\"uncertainty_2_x\": \"mean\", \"uncertainty_2_y\": \"std\"}).plot.bar()"
   ],
   "metadata": {
    "id": "IjGKOLPtIFWX",
    "pycharm": {
     "name": "#%%\n"
    }
   },
   "execution_count": null,
   "outputs": []
  },
  {
   "cell_type": "code",
   "source": [
    "pd.merge(data.groupby('file_paper.year')['uncertainty_2'].mean(), data.groupby('file_paper.year')['uncertainty_2'].std(), on=\"file_paper.year\").rename(columns={\"uncertainty_2_x\": \"mean\", \"uncertainty_2_y\": \"std\"}).plot.bar()"
   ],
   "metadata": {
    "colab": {
     "base_uri": "https://localhost:8080/",
     "height": 313
    },
    "id": "M2NfJZLS6wch",
    "outputId": "9da8518a-4a0d-40da-ec06-5e60ee3a7e71",
    "pycharm": {
     "name": "#%%\n"
    }
   },
   "execution_count": null,
   "outputs": [
    {
     "output_type": "execute_result",
     "data": {
      "text/plain": [
       "<matplotlib.axes._subplots.AxesSubplot at 0x7fbc8d829890>"
      ]
     },
     "metadata": {},
     "execution_count": 6
    },
    {
     "output_type": "display_data",
     "data": {
      "text/plain": [
       "<Figure size 432x288 with 1 Axes>"
      ],
      "image/png": "[encoded data removed]"
     },
     "metadata": {
      "needs_background": "light"
     }
    }
   ]
  },
  {
   "cell_type": "code",
   "source": [
    "pd.merge(data.groupby('file_paper.year')['uncertainty_2'].mean(), data.groupby('file_paper.year')['uncertainty_2'].std(), on=\"file_paper.year\").rename(columns={\"uncertainty_2_x\": \"mean\", \"uncertainty_2_y\": \"std\"}).plot.bar()"
   ],
   "metadata": {
    "id": "-Y7rf7_n7AME",
    "pycharm": {
     "name": "#%%\n"
    }
   },
   "execution_count": null,
   "outputs": []
  },
  {
   "cell_type": "code",
   "source": [
    "from matplotlib.pyplot import figure\n",
    "\n",
    "pd.merge(data.groupby('experiment.id')['uncertainty_2'].mean(), data.groupby('experiment.id')['uncertainty_2'].std(), on=\"experiment.id\").rename(columns={\"uncertainty_2_x\": \"mean\", \"uncertainty_2_y\": \"std\"}).head()\n",
    "pd.DataFrame(data.groupby('experiment.id')['uncertainty_2'].mean()).rename(columns={\"uncertainty_2\": \"uncertainty_index\"}).head()"
   ],
   "metadata": {
    "colab": {
     "base_uri": "https://localhost:8080/",
     "height": 237
    },
    "id": "8BDx6n6h-G59",
    "outputId": "2858720c-ab1a-41c8-c0dd-41f9535c7755",
    "pycharm": {
     "name": "#%%\n"
    }
   },
   "execution_count": null,
   "outputs": [
    {
     "output_type": "execute_result",
     "data": {
      "text/plain": [
       "               uncertainty_index\n",
       "experiment.id                   \n",
       "201                     0.664229\n",
       "205                     0.758380\n",
       "209                     0.784896\n",
       "211                     0.708573\n",
       "212                     0.758291"
      ],
      "text/html": [
       "\n",
       "  <div id=\"df-2db93c83-1890-4152-a123-a924fe765a64\">\n",
       "    <div class=\"colab-df-container\">\n",
       "      <div>\n",
       "<style scoped>\n",
       "    .dataframe tbody tr th:only-of-type {\n",
       "        vertical-align: middle;\n",
       "    }\n",
       "\n",
       "    .dataframe tbody tr th {\n",
       "        vertical-align: top;\n",
       "    }\n",
       "\n",
       "    .dataframe thead th {\n",
       "        text-align: right;\n",
       "    }\n",
       "</style>\n",
       "<table border=\"1\" class=\"dataframe\">\n",
       "  <thead>\n",
       "    <tr style=\"text-align: right;\">\n",
       "      <th></th>\n",
       "      <th>uncertainty_index</th>\n",
       "    </tr>\n",
       "    <tr>\n",
       "      <th>experiment.id</th>\n",
       "      <th></th>\n",
       "    </tr>\n",
       "  </thead>\n",
       "  <tbody>\n",
       "    <tr>\n",
       "      <th>201</th>\n",
       "      <td>0.664229</td>\n",
       "    </tr>\n",
       "    <tr>\n",
       "      <th>205</th>\n",
       "      <td>0.758380</td>\n",
       "    </tr>\n",
       "    <tr>\n",
       "      <th>209</th>\n",
       "      <td>0.784896</td>\n",
       "    </tr>\n",
       "    <tr>\n",
       "      <th>211</th>\n",
       "      <td>0.708573</td>\n",
       "    </tr>\n",
       "    <tr>\n",
       "      <th>212</th>\n",
       "      <td>0.758291</td>\n",
       "    </tr>\n",
       "  </tbody>\n",
       "</table>\n",
       "</div>\n",
       "      <button class=\"colab-df-convert\" onclick=\"convertToInteractive('df-2db93c83-1890-4152-a123-a924fe765a64')\"\n",
       "              title=\"Convert this dataframe to an interactive table.\"\n",
       "              style=\"display:none;\">\n",
       "        \n",
       "  <svg xmlns=\"http://www.w3.org/2000/svg\" height=\"24px\"viewBox=\"0 0 24 24\"\n",
       "       width=\"24px\">\n",
       "    <path d=\"M0 0h24v24H0V0z\" fill=\"none\"/>\n",
       "    <path d=\"M18.56 5.44l.94 2.06.94-2.06 2.06-.94-2.06-.94-.94-2.06-.94 2.06-2.06.94zm-11 1L8.5 8.5l.94-2.06 2.06-.94-2.06-.94L8.5 2.5l-.94 2.06-2.06.94zm10 10l.94 2.06.94-2.06 2.06-.94-2.06-.94-.94-2.06-.94 2.06-2.06.94z\"/><path d=\"M17.41 7.96l-1.37-1.37c-.4-.4-.92-.59-1.43-.59-.52 0-1.04.2-1.43.59L10.3 9.45l-7.72 7.72c-.78.78-.78 2.05 0 2.83L4 21.41c.39.39.9.59 1.41.59.51 0 1.02-.2 1.41-.59l7.78-7.78 2.81-2.81c.8-.78.8-2.07 0-2.86zM5.41 20L4 18.59l7.72-7.72 1.47 1.35L5.41 20z\"/>\n",
       "  </svg>\n",
       "      </button>\n",
       "      \n",
       "  <style>\n",
       "    .colab-df-container {\n",
       "      display:flex;\n",
       "      flex-wrap:wrap;\n",
       "      gap: 12px;\n",
       "    }\n",
       "\n",
       "    .colab-df-convert {\n",
       "      background-color: #E8F0FE;\n",
       "      border: none;\n",
       "      border-radius: 50%;\n",
       "      cursor: pointer;\n",
       "      display: none;\n",
       "      fill: #1967D2;\n",
       "      height: 32px;\n",
       "      padding: 0 0 0 0;\n",
       "      width: 32px;\n",
       "    }\n",
       "\n",
       "    .colab-df-convert:hover {\n",
       "      background-color: #E2EBFA;\n",
       "      box-shadow: 0px 1px 2px rgba(60, 64, 67, 0.3), 0px 1px 3px 1px rgba(60, 64, 67, 0.15);\n",
       "      fill: #174EA6;\n",
       "    }\n",
       "\n",
       "    [theme=dark] .colab-df-convert {\n",
       "      background-color: #3B4455;\n",
       "      fill: #D2E3FC;\n",
       "    }\n",
       "\n",
       "    [theme=dark] .colab-df-convert:hover {\n",
       "      background-color: #434B5C;\n",
       "      box-shadow: 0px 1px 3px 1px rgba(0, 0, 0, 0.15);\n",
       "      filter: drop-shadow(0px 1px 2px rgba(0, 0, 0, 0.3));\n",
       "      fill: #FFFFFF;\n",
       "    }\n",
       "  </style>\n",
       "\n",
       "      <script>\n",
       "        const buttonEl =\n",
       "          document.querySelector('#df-2db93c83-1890-4152-a123-a924fe765a64 button.colab-df-convert');\n",
       "        buttonEl.style.display =\n",
       "          google.colab.kernel.accessAllowed ? 'block' : 'none';\n",
       "\n",
       "        async function convertToInteractive(key) {\n",
       "          const element = document.querySelector('#df-2db93c83-1890-4152-a123-a924fe765a64');\n",
       "          const dataTable =\n",
       "            await google.colab.kernel.invokeFunction('convertToInteractive',\n",
       "                                                     [key], {});\n",
       "          if (!dataTable) return;\n",
       "\n",
       "          const docLinkHtml = 'Like what you see? Visit the ' +\n",
       "            '<a target=\"_blank\" href=https://colab.research.google.com/notebooks/data_table.ipynb>data table notebook</a>'\n",
       "            + ' to learn more about interactive tables.';\n",
       "          element.innerHTML = '';\n",
       "          dataTable['output_type'] = 'display_data';\n",
       "          await google.colab.output.renderOutput(dataTable, element);\n",
       "          const docLink = document.createElement('div');\n",
       "          docLink.innerHTML = docLinkHtml;\n",
       "          element.appendChild(docLink);\n",
       "        }\n",
       "      </script>\n",
       "    </div>\n",
       "  </div>\n",
       "  "
      ]
     },
     "metadata": {},
     "execution_count": 16
    }
   ]
  },
  {
   "cell_type": "code",
   "source": [
    "import pandas as pd\n",
    "data = pd.read_csv(\"/content/drive/My Drive/MDP/launched_experiments/csv_uncertainty_launched.csv\")\n",
    "data"
   ],
   "metadata": {
    "colab": {
     "base_uri": "https://localhost:8080/",
     "height": 424
    },
    "id": "pQeo6v7PSZIf",
    "outputId": "b74e1fae-0390-43d6-c5f7-dc3e8bf8d9ad",
    "pycharm": {
     "name": "#%%\n"
    }
   },
   "execution_count": 8,
   "outputs": [
    {
     "output_type": "execute_result",
     "data": {
      "text/plain": [
       "     experiment_id  year                                             author  \\\n",
       "0              205  2014  Mathieu, Olivier; Deguillaume, Fiona; Petersen...   \n",
       "1              205  2014  Mathieu, Olivier; Deguillaume, Fiona; Petersen...   \n",
       "2              205  2014  Mathieu, Olivier; Deguillaume, Fiona; Petersen...   \n",
       "3              205  2014  Mathieu, Olivier; Deguillaume, Fiona; Petersen...   \n",
       "4              205  2014  Mathieu, Olivier; Deguillaume, Fiona; Petersen...   \n",
       "..             ...   ...                                                ...   \n",
       "275            219  2016  Hu, Erjiang; Pan, Lun; Gao, Zhenhua; Lu, Xin; ...   \n",
       "276            219  2016  Hu, Erjiang; Pan, Lun; Gao, Zhenhua; Lu, Xin; ...   \n",
       "277            219  2016  Hu, Erjiang; Pan, Lun; Gao, Zhenhua; Lu, Xin; ...   \n",
       "278            219  2016  Hu, Erjiang; Pan, Lun; Gao, Zhenhua; Lu, Xin; ...   \n",
       "279            219  2016  Hu, Erjiang; Pan, Lun; Gao, Zhenhua; Lu, Xin; ...   \n",
       "\n",
       "                 name  model_id         x         y  uncertainty         error  \n",
       "0          KAUST_2018        18  0.000000  1.000000     1.000000  1.110223e-16  \n",
       "1          KAUST_2018        18  0.019346  0.752760     0.717021 -1.512842e-01  \n",
       "2          KAUST_2018        18  0.061422  0.686922     0.984247 -8.421629e-03  \n",
       "3          KAUST_2018        18  0.092488  0.584729     0.918681  4.347413e-02  \n",
       "4          KAUST_2018        18  0.187347  0.353183     0.797874  1.080593e-01  \n",
       "..                ...       ...       ...       ...          ...           ...  \n",
       "275  CRECK_2106_PRF_2        11  0.819514  0.051985     0.998755  6.656020e-04  \n",
       "276  CRECK_2106_PRF_2        11  0.858099  0.015701     0.953899 -2.464639e-02  \n",
       "277  CRECK_2106_PRF_2        11  0.897001  0.027448     0.996560 -1.838954e-03  \n",
       "278  CRECK_2106_PRF_2        11  0.956815  0.004392     0.985247 -7.887002e-03  \n",
       "279  CRECK_2106_PRF_2        11  1.000000  0.000000     1.000000 -5.551115e-17  \n",
       "\n",
       "[280 rows x 9 columns]"
      ],
      "text/html": [
       "\n",
       "  <div id=\"df-2f9453dd-4503-4e05-8fda-f27634b81b5a\">\n",
       "    <div class=\"colab-df-container\">\n",
       "      <div>\n",
       "<style scoped>\n",
       "    .dataframe tbody tr th:only-of-type {\n",
       "        vertical-align: middle;\n",
       "    }\n",
       "\n",
       "    .dataframe tbody tr th {\n",
       "        vertical-align: top;\n",
       "    }\n",
       "\n",
       "    .dataframe thead th {\n",
       "        text-align: right;\n",
       "    }\n",
       "</style>\n",
       "<table border=\"1\" class=\"dataframe\">\n",
       "  <thead>\n",
       "    <tr style=\"text-align: right;\">\n",
       "      <th></th>\n",
       "      <th>experiment_id</th>\n",
       "      <th>year</th>\n",
       "      <th>author</th>\n",
       "      <th>name</th>\n",
       "      <th>model_id</th>\n",
       "      <th>x</th>\n",
       "      <th>y</th>\n",
       "      <th>uncertainty</th>\n",
       "      <th>error</th>\n",
       "    </tr>\n",
       "  </thead>\n",
       "  <tbody>\n",
       "    <tr>\n",
       "      <th>0</th>\n",
       "      <td>205</td>\n",
       "      <td>2014</td>\n",
       "      <td>Mathieu, Olivier; Deguillaume, Fiona; Petersen...</td>\n",
       "      <td>KAUST_2018</td>\n",
       "      <td>18</td>\n",
       "      <td>0.000000</td>\n",
       "      <td>1.000000</td>\n",
       "      <td>1.000000</td>\n",
       "      <td>1.110223e-16</td>\n",
       "    </tr>\n",
       "    <tr>\n",
       "      <th>1</th>\n",
       "      <td>205</td>\n",
       "      <td>2014</td>\n",
       "      <td>Mathieu, Olivier; Deguillaume, Fiona; Petersen...</td>\n",
       "      <td>KAUST_2018</td>\n",
       "      <td>18</td>\n",
       "      <td>0.019346</td>\n",
       "      <td>0.752760</td>\n",
       "      <td>0.717021</td>\n",
       "      <td>-1.512842e-01</td>\n",
       "    </tr>\n",
       "    <tr>\n",
       "      <th>2</th>\n",
       "      <td>205</td>\n",
       "      <td>2014</td>\n",
       "      <td>Mathieu, Olivier; Deguillaume, Fiona; Petersen...</td>\n",
       "      <td>KAUST_2018</td>\n",
       "      <td>18</td>\n",
       "      <td>0.061422</td>\n",
       "      <td>0.686922</td>\n",
       "      <td>0.984247</td>\n",
       "      <td>-8.421629e-03</td>\n",
       "    </tr>\n",
       "    <tr>\n",
       "      <th>3</th>\n",
       "      <td>205</td>\n",
       "      <td>2014</td>\n",
       "      <td>Mathieu, Olivier; Deguillaume, Fiona; Petersen...</td>\n",
       "      <td>KAUST_2018</td>\n",
       "      <td>18</td>\n",
       "      <td>0.092488</td>\n",
       "      <td>0.584729</td>\n",
       "      <td>0.918681</td>\n",
       "      <td>4.347413e-02</td>\n",
       "    </tr>\n",
       "    <tr>\n",
       "      <th>4</th>\n",
       "      <td>205</td>\n",
       "      <td>2014</td>\n",
       "      <td>Mathieu, Olivier; Deguillaume, Fiona; Petersen...</td>\n",
       "      <td>KAUST_2018</td>\n",
       "      <td>18</td>\n",
       "      <td>0.187347</td>\n",
       "      <td>0.353183</td>\n",
       "      <td>0.797874</td>\n",
       "      <td>1.080593e-01</td>\n",
       "    </tr>\n",
       "    <tr>\n",
       "      <th>...</th>\n",
       "      <td>...</td>\n",
       "      <td>...</td>\n",
       "      <td>...</td>\n",
       "      <td>...</td>\n",
       "      <td>...</td>\n",
       "      <td>...</td>\n",
       "      <td>...</td>\n",
       "      <td>...</td>\n",
       "      <td>...</td>\n",
       "    </tr>\n",
       "    <tr>\n",
       "      <th>275</th>\n",
       "      <td>219</td>\n",
       "      <td>2016</td>\n",
       "      <td>Hu, Erjiang; Pan, Lun; Gao, Zhenhua; Lu, Xin; ...</td>\n",
       "      <td>CRECK_2106_PRF_2</td>\n",
       "      <td>11</td>\n",
       "      <td>0.819514</td>\n",
       "      <td>0.051985</td>\n",
       "      <td>0.998755</td>\n",
       "      <td>6.656020e-04</td>\n",
       "    </tr>\n",
       "    <tr>\n",
       "      <th>276</th>\n",
       "      <td>219</td>\n",
       "      <td>2016</td>\n",
       "      <td>Hu, Erjiang; Pan, Lun; Gao, Zhenhua; Lu, Xin; ...</td>\n",
       "      <td>CRECK_2106_PRF_2</td>\n",
       "      <td>11</td>\n",
       "      <td>0.858099</td>\n",
       "      <td>0.015701</td>\n",
       "      <td>0.953899</td>\n",
       "      <td>-2.464639e-02</td>\n",
       "    </tr>\n",
       "    <tr>\n",
       "      <th>277</th>\n",
       "      <td>219</td>\n",
       "      <td>2016</td>\n",
       "      <td>Hu, Erjiang; Pan, Lun; Gao, Zhenhua; Lu, Xin; ...</td>\n",
       "      <td>CRECK_2106_PRF_2</td>\n",
       "      <td>11</td>\n",
       "      <td>0.897001</td>\n",
       "      <td>0.027448</td>\n",
       "      <td>0.996560</td>\n",
       "      <td>-1.838954e-03</td>\n",
       "    </tr>\n",
       "    <tr>\n",
       "      <th>278</th>\n",
       "      <td>219</td>\n",
       "      <td>2016</td>\n",
       "      <td>Hu, Erjiang; Pan, Lun; Gao, Zhenhua; Lu, Xin; ...</td>\n",
       "      <td>CRECK_2106_PRF_2</td>\n",
       "      <td>11</td>\n",
       "      <td>0.956815</td>\n",
       "      <td>0.004392</td>\n",
       "      <td>0.985247</td>\n",
       "      <td>-7.887002e-03</td>\n",
       "    </tr>\n",
       "    <tr>\n",
       "      <th>279</th>\n",
       "      <td>219</td>\n",
       "      <td>2016</td>\n",
       "      <td>Hu, Erjiang; Pan, Lun; Gao, Zhenhua; Lu, Xin; ...</td>\n",
       "      <td>CRECK_2106_PRF_2</td>\n",
       "      <td>11</td>\n",
       "      <td>1.000000</td>\n",
       "      <td>0.000000</td>\n",
       "      <td>1.000000</td>\n",
       "      <td>-5.551115e-17</td>\n",
       "    </tr>\n",
       "  </tbody>\n",
       "</table>\n",
       "<p>280 rows × 9 columns</p>\n",
       "</div>\n",
       "      <button class=\"colab-df-convert\" onclick=\"convertToInteractive('df-2f9453dd-4503-4e05-8fda-f27634b81b5a')\"\n",
       "              title=\"Convert this dataframe to an interactive table.\"\n",
       "              style=\"display:none;\">\n",
       "        \n",
       "  <svg xmlns=\"http://www.w3.org/2000/svg\" height=\"24px\"viewBox=\"0 0 24 24\"\n",
       "       width=\"24px\">\n",
       "    <path d=\"M0 0h24v24H0V0z\" fill=\"none\"/>\n",
       "    <path d=\"M18.56 5.44l.94 2.06.94-2.06 2.06-.94-2.06-.94-.94-2.06-.94 2.06-2.06.94zm-11 1L8.5 8.5l.94-2.06 2.06-.94-2.06-.94L8.5 2.5l-.94 2.06-2.06.94zm10 10l.94 2.06.94-2.06 2.06-.94-2.06-.94-.94-2.06-.94 2.06-2.06.94z\"/><path d=\"M17.41 7.96l-1.37-1.37c-.4-.4-.92-.59-1.43-.59-.52 0-1.04.2-1.43.59L10.3 9.45l-7.72 7.72c-.78.78-.78 2.05 0 2.83L4 21.41c.39.39.9.59 1.41.59.51 0 1.02-.2 1.41-.59l7.78-7.78 2.81-2.81c.8-.78.8-2.07 0-2.86zM5.41 20L4 18.59l7.72-7.72 1.47 1.35L5.41 20z\"/>\n",
       "  </svg>\n",
       "      </button>\n",
       "      \n",
       "  <style>\n",
       "    .colab-df-container {\n",
       "      display:flex;\n",
       "      flex-wrap:wrap;\n",
       "      gap: 12px;\n",
       "    }\n",
       "\n",
       "    .colab-df-convert {\n",
       "      background-color: #E8F0FE;\n",
       "      border: none;\n",
       "      border-radius: 50%;\n",
       "      cursor: pointer;\n",
       "      display: none;\n",
       "      fill: #1967D2;\n",
       "      height: 32px;\n",
       "      padding: 0 0 0 0;\n",
       "      width: 32px;\n",
       "    }\n",
       "\n",
       "    .colab-df-convert:hover {\n",
       "      background-color: #E2EBFA;\n",
       "      box-shadow: 0px 1px 2px rgba(60, 64, 67, 0.3), 0px 1px 3px 1px rgba(60, 64, 67, 0.15);\n",
       "      fill: #174EA6;\n",
       "    }\n",
       "\n",
       "    [theme=dark] .colab-df-convert {\n",
       "      background-color: #3B4455;\n",
       "      fill: #D2E3FC;\n",
       "    }\n",
       "\n",
       "    [theme=dark] .colab-df-convert:hover {\n",
       "      background-color: #434B5C;\n",
       "      box-shadow: 0px 1px 3px 1px rgba(0, 0, 0, 0.15);\n",
       "      filter: drop-shadow(0px 1px 2px rgba(0, 0, 0, 0.3));\n",
       "      fill: #FFFFFF;\n",
       "    }\n",
       "  </style>\n",
       "\n",
       "      <script>\n",
       "        const buttonEl =\n",
       "          document.querySelector('#df-2f9453dd-4503-4e05-8fda-f27634b81b5a button.colab-df-convert');\n",
       "        buttonEl.style.display =\n",
       "          google.colab.kernel.accessAllowed ? 'block' : 'none';\n",
       "\n",
       "        async function convertToInteractive(key) {\n",
       "          const element = document.querySelector('#df-2f9453dd-4503-4e05-8fda-f27634b81b5a');\n",
       "          const dataTable =\n",
       "            await google.colab.kernel.invokeFunction('convertToInteractive',\n",
       "                                                     [key], {});\n",
       "          if (!dataTable) return;\n",
       "\n",
       "          const docLinkHtml = 'Like what you see? Visit the ' +\n",
       "            '<a target=\"_blank\" href=https://colab.research.google.com/notebooks/data_table.ipynb>data table notebook</a>'\n",
       "            + ' to learn more about interactive tables.';\n",
       "          element.innerHTML = '';\n",
       "          dataTable['output_type'] = 'display_data';\n",
       "          await google.colab.output.renderOutput(dataTable, element);\n",
       "          const docLink = document.createElement('div');\n",
       "          docLink.innerHTML = docLinkHtml;\n",
       "          element.appendChild(docLink);\n",
       "        }\n",
       "      </script>\n",
       "    </div>\n",
       "  </div>\n",
       "  "
      ]
     },
     "metadata": {},
     "execution_count": 8
    }
   ]
  },
  {
   "cell_type": "code",
   "source": [
    "pd.merge(data.groupby('experiment_id')['uncertainty'].mean(), data.groupby('experiment_id')['uncertainty'].std(), on=\"experiment_id\").rename(columns={\"uncertainty_x\": \"mean\", \"uncertainty_y\": \"std\"}).plot.bar()"
   ],
   "metadata": {
    "id": "FwhyIvysSuG4",
    "pycharm": {
     "name": "#%%\n"
    }
   },
   "execution_count": null,
   "outputs": []
  },
  {
   "cell_type": "code",
   "source": [
    "pd.merge(data.groupby('experiment_id')['error'].mean(), data.groupby('experiment_id')['error'].std(), on=\"experiment_id\").rename(columns={\"error_x\": \"mean\", \"error_y\": \"std\"}).plot.bar()"
   ],
   "metadata": {
    "id": "NX6IWqWuWs6U",
    "pycharm": {
     "name": "#%%\n"
    }
   },
   "execution_count": null,
   "outputs": []
  },
  {
   "cell_type": "code",
   "source": [
    "pd.merge(data.groupby('author')['error'].mean(), data.groupby('author')['error'].std(), on=\"author\").rename(columns={\"error_x\": \"mean\", \"error_y\": \"std\"}).plot.bar()"
   ],
   "metadata": {
    "id": "vIFYXoFUXJG2",
    "pycharm": {
     "name": "#%%\n"
    }
   },
   "execution_count": null,
   "outputs": []
  },
  {
   "cell_type": "code",
   "source": [
    "data = pd.read_csv(\"/content/drive/My Drive/MDP/launched_experiments/csv_uncertainty.csv\")"
   ],
   "metadata": {
    "id": "w4QZKPqpgk8F",
    "pycharm": {
     "name": "#%%\n"
    }
   },
   "execution_count": 9,
   "outputs": []
  },
  {
   "cell_type": "code",
   "source": [
    "def to_float(s):\n",
    "  try:\n",
    "    return float(s)\n",
    "  except:\n",
    "    return 10.0 \n",
    "\n",
    "print(data.shape)\n",
    "data['x'] = data['x'].apply(to_float)\n",
    "data['y'] = data['y'].apply(to_float)\n",
    "data['uncertainty'] = data['uncertainty'].apply(to_float)\n",
    "data['error'] = data['error'].apply(to_float)\n",
    "data = data[(data.x != 10.0) & (data.y != 10.0)&(data.x != 10) & (data.y != 10)]\n",
    "print(data.shape)"
   ],
   "metadata": {
    "colab": {
     "base_uri": "https://localhost:8080/"
    },
    "id": "YscasyuSpVkH",
    "outputId": "86a49f4e-8df8-4792-805e-2494994596b8",
    "pycharm": {
     "name": "#%%\n"
    }
   },
   "execution_count": 10,
   "outputs": [
    {
     "output_type": "stream",
     "name": "stdout",
     "text": [
      "(6527, 9)\n",
      "(6526, 9)\n"
     ]
    }
   ]
  },
  {
   "cell_type": "code",
   "source": [
    "pd.merge(data.groupby('model_id')['uncertainty'].mean(), data.groupby('model_id')['uncertainty'].std(), on=\"model_id\").shape"
   ],
   "metadata": {
    "colab": {
     "base_uri": "https://localhost:8080/"
    },
    "id": "qoTml-KJsECX",
    "outputId": "099efeac-a387-4cb3-ee36-03be2021f4df",
    "pycharm": {
     "name": "#%%\n"
    }
   },
   "execution_count": 15,
   "outputs": [
    {
     "output_type": "execute_result",
     "data": {
      "text/plain": [
       "(24, 2)"
      ]
     },
     "metadata": {},
     "execution_count": 15
    }
   ]
  },
  {
   "cell_type": "code",
   "source": [
    "pd.merge(data.groupby('author')['uncertainty'].mean(), data.groupby('author')['uncertainty'].std(), on=\"author\").rename(columns={\"uncertainty_x\": \"mean\", \"uncertainty_y\": \"std\"}).plot.bar()\n",
    "pd.merge(data.groupby('author')['error'].mean(), data.groupby('author')['error'].std(), on=\"author\").rename(columns={\"error_x\": \"mean\", \"error_y\": \"std\"}).plot.bar()"
   ],
   "metadata": {
    "id": "tYZ0rqxpuzDl",
    "pycharm": {
     "name": "#%%\n"
    }
   },
   "execution_count": null,
   "outputs": []
  },
  {
   "cell_type": "code",
   "source": [
    "pd.merge(data.groupby('year')['uncertainty'].mean(), data.groupby('year')['uncertainty'].std(), on=\"year\").rename(columns={\"uncertainty_x\": \"mean\", \"uncertainty_y\": \"std\"}).plot.bar()"
   ],
   "metadata": {
    "colab": {
     "base_uri": "https://localhost:8080/",
     "height": 312
    },
    "id": "qs_nHLl1scG9",
    "outputId": "de620d4f-faa6-4b0e-d5d7-09f6db38feab",
    "pycharm": {
     "name": "#%%\n"
    }
   },
   "execution_count": 26,
   "outputs": [
    {
     "output_type": "execute_result",
     "data": {
      "text/plain": [
       "<matplotlib.axes._subplots.AxesSubplot at 0x7fc7216d1a50>"
      ]
     },
     "metadata": {},
     "execution_count": 26
    },
    {
     "output_type": "display_data",
     "data": {
      "text/plain": [
       "<Figure size 432x288 with 1 Axes>"
      ],
      "image/png": "[encoded data removed]"
     },
     "metadata": {
      "needs_background": "light"
     }
    }
   ]
  },
  {
   "cell_type": "code",
   "source": [
    "pd.merge(data.groupby('experiment_id')['uncertainty'].mean(), data.groupby('experiment_id')['error'].std(), on=\"experiment_id\").rename(columns={\"uncertainty_x\": \"mean\", \"uncertainty_y\": \"std\"}).plot.bar()"
   ],
   "metadata": {
    "id": "P4GsK7wvs9Oi",
    "pycharm": {
     "name": "#%%\n"
    }
   },
   "execution_count": null,
   "outputs": []
  },
  {
   "cell_type": "code",
   "source": [
    "pd.merge(data.groupby('experiment_id')['uncertainty'].mean(), data.groupby('experiment_id')['uncertainty'].std(), on=\"experiment_id\").rename(columns={\"uncertainty_x\": \"mean\", \"uncertainty_y\": \"std\"}).head(50)"
   ],
   "metadata": {
    "id": "4NHolB9Nzj3H",
    "pycharm": {
     "name": "#%%\n"
    }
   },
   "execution_count": null,
   "outputs": []
  },
  {
   "cell_type": "code",
   "source": [
    "pd.merge(data.groupby('model_id')['uncertainty'].mean(), data.groupby('model_id')['uncertainty'].std(), on=\"model_id\").rename(columns={\"uncertainty_x\": \"mean\", \"uncertainty_y\": \"std\"}).plot.bar()"
   ],
   "metadata": {
    "id": "uY9bz5Pjs_dI",
    "pycharm": {
     "name": "#%%\n"
    }
   },
   "execution_count": null,
   "outputs": []
  }
 ]
}